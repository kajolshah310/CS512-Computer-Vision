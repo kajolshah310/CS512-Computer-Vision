{
  "cells": [
    {
      "cell_type": "code",
      "execution_count": 1,
      "metadata": {
        "id": "eN_Fp1nP11NQ"
      },
      "outputs": [],
      "source": [
        "import pandas as pd\n",
        "import numpy as np\n",
        "import matplotlib.pyplot as plt\n"
      ]
    },
    {
      "cell_type": "code",
      "execution_count": 2,
      "metadata": {
        "id": "G0uhhXyr42nh"
      },
      "outputs": [],
      "source": [
        "import keras\n",
        "keras.__version__\n",
        "from keras import models\n",
        "from keras import layers\n"
      ]
    },
    {
      "cell_type": "code",
      "execution_count": 25,
      "metadata": {
        "id": "1M_qZUT159bF",
        "colab": {
          "base_uri": "https://localhost:8080/"
        },
        "outputId": "2e04f38c-9362-4290-bd5f-b630058e9fe7"
      },
      "outputs": [
        {
          "output_type": "stream",
          "name": "stdout",
          "text": [
            "Downloading data from https://storage.googleapis.com/tensorflow/tf-keras-datasets/mnist.npz\n",
            "11493376/11490434 [==============================] - 0s 0us/step\n",
            "11501568/11490434 [==============================] - 0s 0us/step\n"
          ]
        }
      ],
      "source": [
        "from keras.datasets import mnist\n",
        "(train_images, train_labels), (val_images, val_labels) = mnist.load_data()"
      ]
    },
    {
      "cell_type": "code",
      "execution_count": 26,
      "metadata": {
        "colab": {
          "base_uri": "https://localhost:8080/"
        },
        "id": "erjINW7g7YQL",
        "outputId": "4cc3c323-41c0-4892-fa92-54e534a5cf86"
      },
      "outputs": [
        {
          "output_type": "execute_result",
          "data": {
            "text/plain": [
              "array([5, 0, 4, ..., 5, 6, 8], dtype=uint8)"
            ]
          },
          "metadata": {},
          "execution_count": 26
        }
      ],
      "source": [
        "train_labels"
      ]
    },
    {
      "cell_type": "code",
      "source": [
        "train_images.shape"
      ],
      "metadata": {
        "colab": {
          "base_uri": "https://localhost:8080/"
        },
        "id": "5lpU2gix7FNs",
        "outputId": "c5d9519a-b1b2-45ab-c6a9-40f4c00dcade"
      },
      "execution_count": 27,
      "outputs": [
        {
          "output_type": "execute_result",
          "data": {
            "text/plain": [
              "(60000, 28, 28)"
            ]
          },
          "metadata": {},
          "execution_count": 27
        }
      ]
    },
    {
      "cell_type": "code",
      "source": [
        "#spliiting training data into train and test\n",
        "test_images = train_images[55000:,]\n",
        "test_labels = train_labels[55000:,]\n",
        "train_images = train_images[:55000,]\n",
        "train_labels = train_labels[:55000,]"
      ],
      "metadata": {
        "id": "ICCVqwk47IwK"
      },
      "execution_count": 28,
      "outputs": []
    },
    {
      "cell_type": "code",
      "source": [
        "test_images.shape"
      ],
      "metadata": {
        "colab": {
          "base_uri": "https://localhost:8080/"
        },
        "id": "q1sBWZNK7vnb",
        "outputId": "3814c95b-e33f-42ea-9a4c-30d289db36b3"
      },
      "execution_count": 29,
      "outputs": [
        {
          "output_type": "execute_result",
          "data": {
            "text/plain": [
              "(5000, 28, 28)"
            ]
          },
          "metadata": {},
          "execution_count": 29
        }
      ]
    },
    {
      "cell_type": "code",
      "source": [
        "train_labels"
      ],
      "metadata": {
        "colab": {
          "base_uri": "https://localhost:8080/"
        },
        "id": "gwS_aXMz81X4",
        "outputId": "60f0c93d-2e29-4698-d037-ddaee44f83df"
      },
      "execution_count": 30,
      "outputs": [
        {
          "output_type": "execute_result",
          "data": {
            "text/plain": [
              "array([5, 0, 4, ..., 0, 4, 0], dtype=uint8)"
            ]
          },
          "metadata": {},
          "execution_count": 30
        }
      ]
    },
    {
      "cell_type": "code",
      "execution_count": 31,
      "metadata": {
        "colab": {
          "base_uri": "https://localhost:8080/"
        },
        "id": "71rtSBmu7vFO",
        "outputId": "26dd8238-1d75-446b-a04b-8cd7dd4f2e0d"
      },
      "outputs": [
        {
          "output_type": "execute_result",
          "data": {
            "text/plain": [
              "array([1, 2, 8, ..., 5, 6, 8], dtype=uint8)"
            ]
          },
          "metadata": {},
          "execution_count": 31
        }
      ],
      "source": [
        "len(test_labels)\n",
        "test_labels"
      ]
    },
    {
      "cell_type": "code",
      "execution_count": 32,
      "metadata": {
        "colab": {
          "base_uri": "https://localhost:8080/"
        },
        "id": "P_IPMqbp73FZ",
        "outputId": "775a019c-54c8-4490-d8a8-6ada0b5f3d5a"
      },
      "outputs": [
        {
          "output_type": "execute_result",
          "data": {
            "text/plain": [
              "(55000, 28, 28, 1)"
            ]
          },
          "metadata": {},
          "execution_count": 32
        }
      ],
      "source": [
        "train_images = train_images.reshape((55000, 28, 28, 1))\n",
        "train_images = train_images.astype('float32')/255\n",
        "train_images.shape"
      ]
    },
    {
      "cell_type": "code",
      "source": [
        "test_images = test_images.reshape((5000, 28, 28, 1))\n",
        "test_images = test_images.astype('float32')/255\n",
        "test_images.shape"
      ],
      "metadata": {
        "colab": {
          "base_uri": "https://localhost:8080/"
        },
        "id": "e6d3kxba8QL4",
        "outputId": "534b9a4a-ea57-48e4-9f44-9cedcc395f85"
      },
      "execution_count": 33,
      "outputs": [
        {
          "output_type": "execute_result",
          "data": {
            "text/plain": [
              "(5000, 28, 28, 1)"
            ]
          },
          "metadata": {},
          "execution_count": 33
        }
      ]
    },
    {
      "cell_type": "code",
      "execution_count": 34,
      "metadata": {
        "id": "5tHUqPnA8S3l",
        "colab": {
          "base_uri": "https://localhost:8080/"
        },
        "outputId": "71fba426-36e2-43e9-aa56-ce7fe380fee2"
      },
      "outputs": [
        {
          "output_type": "execute_result",
          "data": {
            "text/plain": [
              "(10000, 28, 28, 1)"
            ]
          },
          "metadata": {},
          "execution_count": 34
        }
      ],
      "source": [
        "val_images = val_images.reshape((10000, 28, 28, 1))\n",
        "val_images = val_images.astype('float32')/255\n",
        "val_images.shape"
      ]
    },
    {
      "cell_type": "code",
      "execution_count": 35,
      "metadata": {
        "id": "1Hx64qvU-7QN"
      },
      "outputs": [],
      "source": [
        "#convert labels into even/odd\n",
        "odd = set([1, 3, 5, 7, 9])\n",
        "#if train_labels[0] in odd:\n",
        "#  print(\"in odd\")\n",
        "#else:\n",
        "#  print(\"in even\")\n",
        "for i in range(len(train_labels)):\n",
        "  if train_labels[i] in odd:\n",
        "    train_labels[i] = 1\n",
        "  else:\n",
        "    train_labels[i] = 0\n",
        "for i in range(len(val_labels)):\n",
        "  if val_labels[i] in odd:\n",
        "    val_labels[i] = 1\n",
        "  else:\n",
        "    val_labels[i] = 0\n",
        "for i in range(len(test_labels)):\n",
        "  if test_labels[i] in odd:\n",
        "    test_labels[i] = 1\n",
        "  else:\n",
        "    test_labels[i] = 0"
      ]
    },
    {
      "cell_type": "code",
      "execution_count": 36,
      "metadata": {
        "colab": {
          "base_uri": "https://localhost:8080/"
        },
        "id": "gw1CqowVBaK3",
        "outputId": "45fb02c7-daa6-44ca-b013-193d40765e64"
      },
      "outputs": [
        {
          "output_type": "execute_result",
          "data": {
            "text/plain": [
              "array([1, 0, 0, ..., 1, 0, 0], dtype=uint8)"
            ]
          },
          "metadata": {},
          "execution_count": 36
        }
      ],
      "source": [
        "test_labels"
      ]
    },
    {
      "cell_type": "code",
      "execution_count": 37,
      "metadata": {
        "colab": {
          "base_uri": "https://localhost:8080/"
        },
        "id": "OnvrOhd9-7cc",
        "outputId": "8f27e220-7d91-4d6c-d164-57924596d454"
      },
      "outputs": [
        {
          "output_type": "execute_result",
          "data": {
            "text/plain": [
              "array([1, 0, 0, ..., 0, 0, 0], dtype=uint8)"
            ]
          },
          "metadata": {},
          "execution_count": 37
        }
      ],
      "source": [
        "train_labels"
      ]
    },
    {
      "cell_type": "code",
      "source": [
        "val_labels"
      ],
      "metadata": {
        "colab": {
          "base_uri": "https://localhost:8080/"
        },
        "id": "JjFhex7F9RTT",
        "outputId": "e3d9526a-7637-4929-8702-d92d59eac6ae"
      },
      "execution_count": 38,
      "outputs": [
        {
          "output_type": "execute_result",
          "data": {
            "text/plain": [
              "array([1, 0, 1, ..., 0, 1, 0], dtype=uint8)"
            ]
          },
          "metadata": {},
          "execution_count": 38
        }
      ]
    },
    {
      "cell_type": "code",
      "execution_count": 39,
      "metadata": {
        "colab": {
          "base_uri": "https://localhost:8080/"
        },
        "id": "ybsx4PujCui9",
        "outputId": "05c36fea-5b89-4f05-ee8a-ed8c524444b6"
      },
      "outputs": [
        {
          "output_type": "stream",
          "name": "stdout",
          "text": [
            "Model: \"sequential_3\"\n",
            "_________________________________________________________________\n",
            " Layer (type)                Output Shape              Param #   \n",
            "=================================================================\n",
            " conv2d_17 (Conv2D)          (None, 26, 26, 32)        320       \n",
            "                                                                 \n",
            " max_pooling2d_10 (MaxPoolin  (None, 13, 13, 32)       0         \n",
            " g2D)                                                            \n",
            "                                                                 \n",
            " conv2d_18 (Conv2D)          (None, 11, 11, 64)        18496     \n",
            "                                                                 \n",
            " max_pooling2d_11 (MaxPoolin  (None, 5, 5, 64)         0         \n",
            " g2D)                                                            \n",
            "                                                                 \n",
            " dropout_9 (Dropout)         (None, 5, 5, 64)          0         \n",
            "                                                                 \n",
            " dense_4 (Dense)             (None, 5, 5, 64)          4160      \n",
            "                                                                 \n",
            " flatten_4 (Flatten)         (None, 1600)              0         \n",
            "                                                                 \n",
            " dense_5 (Dense)             (None, 1)                 1601      \n",
            "                                                                 \n",
            "=================================================================\n",
            "Total params: 24,577\n",
            "Trainable params: 24,577\n",
            "Non-trainable params: 0\n",
            "_________________________________________________________________\n"
          ]
        }
      ],
      "source": [
        "#MNIST Model 1\n",
        "mmodel = models.Sequential()\n",
        "#mmodel.Input(shape=(28, 28, 1))\n",
        "mmodel.add(layers.Conv2D(32, kernel_size=(3, 3), activation=\"relu\", input_shape=(28, 28, 1)))\n",
        "mmodel.add(layers.MaxPool2D(pool_size = (2,2)))\n",
        "mmodel.add(layers.Conv2D(64, kernel_size=(3, 3), activation=\"relu\"))\n",
        "mmodel.add(layers.MaxPool2D(pool_size = (2,2)))\n",
        "mmodel.add(layers.Dropout(0.5))\n",
        "mmodel.add(layers.Dense(64, activation=\"relu\"))\n",
        "mmodel.add(layers.Flatten())\n",
        "mmodel.add(layers.Dense(1, activation=\"sigmoid\"))\n",
        "mmodel.summary()\n"
      ]
    },
    {
      "cell_type": "code",
      "execution_count": null,
      "metadata": {
        "id": "52PLJ2raRxVi"
      },
      "outputs": [],
      "source": [
        "#import tensorflow as tf\n",
        "#train_images = tf.stack(train_images)\n",
        "#train_labels = tf.stack(train_labels)"
      ]
    },
    {
      "cell_type": "code",
      "execution_count": 40,
      "metadata": {
        "id": "r3XRj1TRNuuW"
      },
      "outputs": [],
      "source": [
        "from keras.backend import learning_phase\n",
        "from tensorflow.keras.optimizers import SGD\n",
        "sgd = SGD(learning_rate=0.001, decay=1e-6, momentum=0.9, nesterov=True)\n",
        "mmodel.compile(optimizer='sgd', loss = 'binary_crossentropy',metrics=['accuracy'])"
      ]
    },
    {
      "cell_type": "code",
      "execution_count": 41,
      "metadata": {
        "colab": {
          "base_uri": "https://localhost:8080/"
        },
        "id": "FE7XMoqkQ0Mf",
        "outputId": "2f5f80ff-9999-492c-b311-67d963ba6932"
      },
      "outputs": [
        {
          "output_type": "execute_result",
          "data": {
            "text/plain": [
              "(55000, 28, 28, 1)"
            ]
          },
          "metadata": {},
          "execution_count": 41
        }
      ],
      "source": [
        "train_images.shape"
      ]
    },
    {
      "cell_type": "code",
      "execution_count": 42,
      "metadata": {
        "colab": {
          "base_uri": "https://localhost:8080/"
        },
        "id": "2Omk8Mj1P9Z1",
        "outputId": "5906890e-4374-47fc-ae1c-c88218dc0c47"
      },
      "outputs": [
        {
          "output_type": "stream",
          "name": "stdout",
          "text": [
            "Epoch 1/5\n",
            "430/430 [==============================] - 46s 104ms/step - loss: 0.5764 - accuracy: 0.7140 - val_loss: 0.4207 - val_accuracy: 0.8073\n",
            "Epoch 2/5\n",
            "430/430 [==============================] - 53s 124ms/step - loss: 0.4182 - accuracy: 0.8091 - val_loss: 0.3464 - val_accuracy: 0.8545\n",
            "Epoch 3/5\n",
            "430/430 [==============================] - 44s 103ms/step - loss: 0.3700 - accuracy: 0.8371 - val_loss: 0.3009 - val_accuracy: 0.8801\n",
            "Epoch 4/5\n",
            "430/430 [==============================] - 46s 106ms/step - loss: 0.3297 - accuracy: 0.8576 - val_loss: 0.2632 - val_accuracy: 0.9023\n",
            "Epoch 5/5\n",
            "430/430 [==============================] - 52s 122ms/step - loss: 0.2903 - accuracy: 0.8801 - val_loss: 0.2354 - val_accuracy: 0.9143\n"
          ]
        }
      ],
      "source": [
        "history = mmodel.fit(train_images, train_labels, epochs = 5, batch_size=128, validation_data=(val_images, val_labels))"
      ]
    },
    {
      "cell_type": "code",
      "source": [
        "histm = mmodel.evaluate(test_images, test_labels)"
      ],
      "metadata": {
        "colab": {
          "base_uri": "https://localhost:8080/"
        },
        "id": "A7v1YAQQiz11",
        "outputId": "02cc86d3-846a-40cf-a00a-431459ebb50d"
      },
      "execution_count": 44,
      "outputs": [
        {
          "output_type": "stream",
          "name": "stdout",
          "text": [
            "157/157 [==============================] - 2s 10ms/step - loss: 0.2126 - accuracy: 0.9244\n"
          ]
        }
      ]
    },
    {
      "cell_type": "code",
      "source": [
        "mmodel.save('mmodel.h5')\n",
        "mmodel.save('/home/kajol/Downloads/mmodel.h5')"
      ],
      "metadata": {
        "id": "udfaw1jxo6dp"
      },
      "execution_count": 45,
      "outputs": []
    },
    {
      "cell_type": "code",
      "source": [
        "from keras.saving.save import load_model\n",
        "m = load_model('mmodel.h5')"
      ],
      "metadata": {
        "id": "nFeXRUmcrPKK"
      },
      "execution_count": 46,
      "outputs": []
    },
    {
      "cell_type": "code",
      "execution_count": 45,
      "metadata": {
        "id": "x5hK_6YwaLqx",
        "colab": {
          "base_uri": "https://localhost:8080/",
          "height": 312
        },
        "outputId": "ef38f47d-d022-4064-dcff-8ef349795c4c"
      },
      "outputs": [
        {
          "output_type": "execute_result",
          "data": {
            "text/plain": [
              "Text(0, 0.5, 'loss')"
            ]
          },
          "metadata": {},
          "execution_count": 45
        },
        {
          "output_type": "display_data",
          "data": {
            "text/plain": [
              "<Figure size 432x288 with 1 Axes>"
            ],
            "image/png": "[encoded data removed]"
          },
          "metadata": {
            "needs_background": "light"
          }
        }
      ],
      "source": [
        "import matplotlib.pyplot as plt\n",
        "\n",
        "plt.plot(history.history['loss'])\n",
        "plt.plot(history.history['val_loss'])\n",
        "plt.title('Training & Validation loss')\n",
        "plt.legend(['training', 'validation'], loc='upper right')\n",
        "plt.xlabel('epoch')\n",
        "plt.ylabel('loss')"
      ]
    },
    {
      "cell_type": "markdown",
      "source": [
        "Final loss and accuracy values of the final training step\n",
        "loss: 0.2903 - accuracy: 0.8801 - val_loss: 0.2354 - val_accuracy: 0.9143"
      ],
      "metadata": {
        "id": "01hwJII7_qrX"
      }
    },
    {
      "cell_type": "markdown",
      "source": [
        "Part 2: Hyperparameter tuning"
      ],
      "metadata": {
        "id": "oi9WnEct-KkU"
      }
    },
    {
      "cell_type": "code",
      "source": [
        "#best model Model 2 - changed architecture, added batch normalization, used weight initializers, added dropouts,      \n",
        "m2model = models.Sequential()\n",
        "#mmodel.Input(shape=(28, 28, 1))\n",
        "m2model.add(layers.Conv2D(32, kernel_size=(3, 3), kernel_initializer = 'he_normal', activation=\"relu\", input_shape=(28, 28, 1)))\n",
        "m2model.add(layers.BatchNormalization())\n",
        "m2model.add(layers.MaxPool2D(pool_size = (2,2)))\n",
        "m2model.add(layers.Dropout(0.2))\n",
        "m2model.add(layers.Conv2D(64, kernel_size=(3, 3), kernel_initializer = 'he_normal', activation=\"relu\"))\n",
        "m2model.add(layers.BatchNormalization())\n",
        "m2model.add(layers.MaxPool2D(pool_size = (2,2)))\n",
        "m2model.add(layers.Dropout(0.2))\n",
        "m2model.add(layers.Conv2D(128, kernel_size=(3, 3), kernel_initializer = 'he_normal', activation=\"relu\", input_shape=(28, 28, 1)))\n",
        "m2model.add(layers.BatchNormalization())\n",
        "m2model.add(layers.MaxPool2D(pool_size = (2,2)))\n",
        "m2model.add(layers.Dropout(0.2))\n",
        "m2model.add(layers.Dense(128, kernel_initializer = 'he_normal', activation=\"relu\"))\n",
        "m2model.add(layers.Dropout(0.2))\n",
        "m2model.add(layers.Flatten())\n",
        "m2model.add(layers.Dense(1, activation=\"sigmoid\"))\n",
        "m2model.summary()\n"
      ],
      "metadata": {
        "colab": {
          "base_uri": "https://localhost:8080/"
        },
        "id": "h-ymPbVj-JTM",
        "outputId": "afe654a9-279e-4121-fc26-1b4dcd52692d"
      },
      "execution_count": 46,
      "outputs": [
        {
          "output_type": "stream",
          "name": "stdout",
          "text": [
            "Model: \"sequential_4\"\n",
            "_________________________________________________________________\n",
            " Layer (type)                Output Shape              Param #   \n",
            "=================================================================\n",
            " conv2d_19 (Conv2D)          (None, 26, 26, 32)        320       \n",
            "                                                                 \n",
            " batch_normalization_11 (Bat  (None, 26, 26, 32)       128       \n",
            " chNormalization)                                                \n",
            "                                                                 \n",
            " max_pooling2d_12 (MaxPoolin  (None, 13, 13, 32)       0         \n",
            " g2D)                                                            \n",
            "                                                                 \n",
            " dropout_10 (Dropout)        (None, 13, 13, 32)        0         \n",
            "                                                                 \n",
            " conv2d_20 (Conv2D)          (None, 11, 11, 64)        18496     \n",
            "                                                                 \n",
            " batch_normalization_12 (Bat  (None, 11, 11, 64)       256       \n",
            " chNormalization)                                                \n",
            "                                                                 \n",
            " max_pooling2d_13 (MaxPoolin  (None, 5, 5, 64)         0         \n",
            " g2D)                                                            \n",
            "                                                                 \n",
            " dropout_11 (Dropout)        (None, 5, 5, 64)          0         \n",
            "                                                                 \n",
            " conv2d_21 (Conv2D)          (None, 3, 3, 128)         73856     \n",
            "                                                                 \n",
            " batch_normalization_13 (Bat  (None, 3, 3, 128)        512       \n",
            " chNormalization)                                                \n",
            "                                                                 \n",
            " max_pooling2d_14 (MaxPoolin  (None, 1, 1, 128)        0         \n",
            " g2D)                                                            \n",
            "                                                                 \n",
            " dropout_12 (Dropout)        (None, 1, 1, 128)         0         \n",
            "                                                                 \n",
            " dense_6 (Dense)             (None, 1, 1, 128)         16512     \n",
            "                                                                 \n",
            " dropout_13 (Dropout)        (None, 1, 1, 128)         0         \n",
            "                                                                 \n",
            " flatten_5 (Flatten)         (None, 128)               0         \n",
            "                                                                 \n",
            " dense_7 (Dense)             (None, 1)                 129       \n",
            "                                                                 \n",
            "=================================================================\n",
            "Total params: 110,209\n",
            "Trainable params: 109,761\n",
            "Non-trainable params: 448\n",
            "_________________________________________________________________\n"
          ]
        }
      ]
    },
    {
      "cell_type": "code",
      "execution_count": 47,
      "metadata": {
        "id": "wo_KK2_DaLvN"
      },
      "outputs": [],
      "source": [
        "#different optimizer, different learning rate, changed number of epochs\n",
        "from tensorflow.keras.optimizers import Adam\n",
        "adam = Adam(learning_rate=0.01)\n",
        "m2model.compile(optimizer='adam', loss = 'binary_crossentropy', metrics=['accuracy'])"
      ]
    },
    {
      "cell_type": "code",
      "source": [
        "history2 = m2model.fit(train_images, train_labels, epochs = 10, batch_size=128, validation_data=(val_images, val_labels))"
      ],
      "metadata": {
        "colab": {
          "base_uri": "https://localhost:8080/"
        },
        "id": "0_pUXBtyAkWZ",
        "outputId": "f1ce93ba-54d0-42c7-9758-98fcdbfe56c0"
      },
      "execution_count": 48,
      "outputs": [
        {
          "output_type": "stream",
          "name": "stdout",
          "text": [
            "Epoch 1/10\n",
            "430/430 [==============================] - 79s 181ms/step - loss: 0.1696 - accuracy: 0.9339 - val_loss: 0.0698 - val_accuracy: 0.9751\n",
            "Epoch 2/10\n",
            "430/430 [==============================] - 73s 169ms/step - loss: 0.0746 - accuracy: 0.9734 - val_loss: 0.0352 - val_accuracy: 0.9876\n",
            "Epoch 3/10\n",
            "430/430 [==============================] - 70s 164ms/step - loss: 0.0562 - accuracy: 0.9797 - val_loss: 0.0345 - val_accuracy: 0.9880\n",
            "Epoch 4/10\n",
            "430/430 [==============================] - 70s 164ms/step - loss: 0.0465 - accuracy: 0.9838 - val_loss: 0.0263 - val_accuracy: 0.9911\n",
            "Epoch 5/10\n",
            "430/430 [==============================] - 71s 165ms/step - loss: 0.0410 - accuracy: 0.9858 - val_loss: 0.0270 - val_accuracy: 0.9911\n",
            "Epoch 6/10\n",
            "430/430 [==============================] - 71s 164ms/step - loss: 0.0351 - accuracy: 0.9883 - val_loss: 0.0260 - val_accuracy: 0.9922\n",
            "Epoch 7/10\n",
            "430/430 [==============================] - 70s 164ms/step - loss: 0.0319 - accuracy: 0.9889 - val_loss: 0.0265 - val_accuracy: 0.9917\n",
            "Epoch 8/10\n",
            "430/430 [==============================] - 70s 163ms/step - loss: 0.0301 - accuracy: 0.9893 - val_loss: 0.0239 - val_accuracy: 0.9923\n",
            "Epoch 9/10\n",
            "430/430 [==============================] - 70s 162ms/step - loss: 0.0268 - accuracy: 0.9905 - val_loss: 0.0226 - val_accuracy: 0.9927\n",
            "Epoch 10/10\n",
            "430/430 [==============================] - 70s 162ms/step - loss: 0.0236 - accuracy: 0.9917 - val_loss: 0.0241 - val_accuracy: 0.9923\n"
          ]
        }
      ]
    },
    {
      "cell_type": "code",
      "source": [
        "histm2 = m2model.evaluate(test_images, test_labels)"
      ],
      "metadata": {
        "colab": {
          "base_uri": "https://localhost:8080/"
        },
        "id": "1f58Sq49jt_4",
        "outputId": "5f0df6b8-9f7f-4a64-baf5-685d927f0fde"
      },
      "execution_count": 49,
      "outputs": [
        {
          "output_type": "stream",
          "name": "stdout",
          "text": [
            "157/157 [==============================] - 2s 13ms/step - loss: 0.0248 - accuracy: 0.9926\n"
          ]
        }
      ]
    },
    {
      "cell_type": "code",
      "source": [
        "#MNIST Model 3 - using different stride and bigger kernel size - achieved good accuracy\n",
        "m3model = models.Sequential()\n",
        "#mmodel.Input(shape=(28, 28, 1))\n",
        "m3model.add(layers.Conv2D(32, kernel_size=(5, 5), strides=(2, 2), kernel_initializer = 'he_normal', padding='valid', activation=\"relu\", input_shape=(28, 28, 1)))\n",
        "#m3model.add(layers.BatchNormalization())\n",
        "#m3model.add(layers.MaxPool2D(pool_size = (2,2)))\n",
        "#m3model.add(layers.Dropout(0.2))\n",
        "m3model.add(layers.Conv2D(64, kernel_size=(5, 5), strides=(2, 2), kernel_initializer = 'he_normal', padding ='valid', activation=\"relu\"))\n",
        "#m3model.add(layers.BatchNormalization())\n",
        "#m3model.add(layers.MaxPool2D(pool_size = (2,2)))\n",
        "#m3model.add(layers.Dropout(0.2))\n",
        "#m3model.add(layers.Conv2D(64, kernel_size=(5, 5), strides=(2, 2), kernel_initializer = 'he_normal', padding ='valid', activation=\"relu\", input_shape=(28, 28, 1)))\n",
        "m3model.add(layers.LayerNormalization())\n",
        "m3model.add(layers.MaxPool2D(pool_size = (2,2)))\n",
        "m3model.add(layers.Dropout(0.2))\n",
        "m3model.add(layers.Dense(128, kernel_initializer = 'he_normal', activation=\"relu\"))\n",
        "m3model.add(layers.Dropout(0.2))\n",
        "m3model.add(layers.Flatten())\n",
        "m3model.add(layers.Dense(1, activation=\"sigmoid\"))\n",
        "m3model.summary()\n"
      ],
      "metadata": {
        "colab": {
          "base_uri": "https://localhost:8080/"
        },
        "id": "Y9hc1M4zUA5L",
        "outputId": "9650e59a-19ab-4b24-d668-57662ce5a009"
      },
      "execution_count": 50,
      "outputs": [
        {
          "output_type": "stream",
          "name": "stdout",
          "text": [
            "Model: \"sequential_5\"\n",
            "_________________________________________________________________\n",
            " Layer (type)                Output Shape              Param #   \n",
            "=================================================================\n",
            " conv2d_22 (Conv2D)          (None, 12, 12, 32)        832       \n",
            "                                                                 \n",
            " conv2d_23 (Conv2D)          (None, 4, 4, 64)          51264     \n",
            "                                                                 \n",
            " layer_normalization (LayerN  (None, 4, 4, 64)         128       \n",
            " ormalization)                                                   \n",
            "                                                                 \n",
            " max_pooling2d_15 (MaxPoolin  (None, 2, 2, 64)         0         \n",
            " g2D)                                                            \n",
            "                                                                 \n",
            " dropout_14 (Dropout)        (None, 2, 2, 64)          0         \n",
            "                                                                 \n",
            " dense_8 (Dense)             (None, 2, 2, 128)         8320      \n",
            "                                                                 \n",
            " dropout_15 (Dropout)        (None, 2, 2, 128)         0         \n",
            "                                                                 \n",
            " flatten_6 (Flatten)         (None, 512)               0         \n",
            "                                                                 \n",
            " dense_9 (Dense)             (None, 1)                 513       \n",
            "                                                                 \n",
            "=================================================================\n",
            "Total params: 61,057\n",
            "Trainable params: 61,057\n",
            "Non-trainable params: 0\n",
            "_________________________________________________________________\n"
          ]
        }
      ]
    },
    {
      "cell_type": "code",
      "source": [
        "from tensorflow.keras.optimizers import Adam\n",
        "adam = Adam(learning_rate=0.01)\n",
        "m3model.compile(optimizer='adam', loss = 'binary_crossentropy', metrics=['accuracy'])"
      ],
      "metadata": {
        "id": "31YgMkecVYsx"
      },
      "execution_count": 51,
      "outputs": []
    },
    {
      "cell_type": "code",
      "source": [
        "history3 = m3model.fit(train_images, train_labels, epochs = 8, batch_size=128, validation_data=(val_images, val_labels))"
      ],
      "metadata": {
        "colab": {
          "base_uri": "https://localhost:8080/"
        },
        "id": "hnonVuyYVpKs",
        "outputId": "4722a4d0-9e56-4d92-88b7-a6e4e862d4a5"
      },
      "execution_count": 52,
      "outputs": [
        {
          "output_type": "stream",
          "name": "stdout",
          "text": [
            "Epoch 1/8\n",
            "430/430 [==============================] - 20s 45ms/step - loss: 0.1807 - accuracy: 0.9261 - val_loss: 0.0580 - val_accuracy: 0.9788\n",
            "Epoch 2/8\n",
            "430/430 [==============================] - 18s 41ms/step - loss: 0.0726 - accuracy: 0.9745 - val_loss: 0.0378 - val_accuracy: 0.9860\n",
            "Epoch 3/8\n",
            "430/430 [==============================] - 25s 59ms/step - loss: 0.0518 - accuracy: 0.9817 - val_loss: 0.0361 - val_accuracy: 0.9873\n",
            "Epoch 4/8\n",
            "430/430 [==============================] - 18s 41ms/step - loss: 0.0426 - accuracy: 0.9852 - val_loss: 0.0322 - val_accuracy: 0.9884\n",
            "Epoch 5/8\n",
            "430/430 [==============================] - 18s 41ms/step - loss: 0.0349 - accuracy: 0.9878 - val_loss: 0.0302 - val_accuracy: 0.9903\n",
            "Epoch 6/8\n",
            "430/430 [==============================] - 17s 40ms/step - loss: 0.0279 - accuracy: 0.9903 - val_loss: 0.0267 - val_accuracy: 0.9911\n",
            "Epoch 7/8\n",
            "430/430 [==============================] - 24s 57ms/step - loss: 0.0256 - accuracy: 0.9910 - val_loss: 0.0265 - val_accuracy: 0.9911\n",
            "Epoch 8/8\n",
            "430/430 [==============================] - 18s 42ms/step - loss: 0.0224 - accuracy: 0.9918 - val_loss: 0.0257 - val_accuracy: 0.9909\n"
          ]
        }
      ]
    },
    {
      "cell_type": "code",
      "source": [
        "histm3 = m3model.evaluate(test_images, test_labels)"
      ],
      "metadata": {
        "colab": {
          "base_uri": "https://localhost:8080/"
        },
        "id": "8lWKsAtVp1Zv",
        "outputId": "af46fb9d-04b9-4abc-ca1e-10b35881b384"
      },
      "execution_count": 53,
      "outputs": [
        {
          "output_type": "stream",
          "name": "stdout",
          "text": [
            "157/157 [==============================] - 1s 5ms/step - loss: 0.0346 - accuracy: 0.9908\n"
          ]
        }
      ]
    },
    {
      "cell_type": "code",
      "source": [
        "#MNIST model 4 - using hinge loss function and different weight initializer\n",
        "m4model = models.Sequential()\n",
        "#mmodel.Input(shape=(28, 28, 1))\n",
        "m4model.add(layers.Conv2D(32, kernel_size=(5, 5), strides=(2, 2), kernel_initializer = 'random_normal', padding='valid', activation=\"relu\", input_shape=(28, 28, 1)))\n",
        "#m3model.add(layers.BatchNormalization())\n",
        "#m3model.add(layers.MaxPool2D(pool_size = (2,2)))\n",
        "#m3model.add(layers.Dropout(0.2))\n",
        "m4model.add(layers.Conv2D(64, kernel_size=(5, 5), strides=(2, 2), kernel_initializer = 'random_normal', padding ='valid', activation=\"relu\"))\n",
        "#m3model.add(layers.BatchNormalization())\n",
        "#m3model.add(layers.MaxPool2D(pool_size = (2,2)))\n",
        "#m3model.add(layers.Dropout(0.2))\n",
        "#m3model.add(layers.Conv2D(64, kernel_size=(5, 5), strides=(2, 2), kernel_initializer = 'he_normal', padding ='valid', activation=\"relu\", input_shape=(28, 28, 1)))\n",
        "m4model.add(layers.LayerNormalization())\n",
        "m4model.add(layers.MaxPool2D(pool_size = (2,2)))\n",
        "m4model.add(layers.Dropout(0.6))\n",
        "m4model.add(layers.Dense(128, kernel_initializer = 'random_normal', activation=\"relu\"))\n",
        "m4model.add(layers.Dropout(0.6))\n",
        "m4model.add(layers.Flatten())\n",
        "m4model.add(layers.Dense(1, activation=\"sigmoid\"))\n",
        "m4model.summary()\n"
      ],
      "metadata": {
        "colab": {
          "base_uri": "https://localhost:8080/"
        },
        "id": "ntJZvc1NZ6Ym",
        "outputId": "36bae48f-3caf-44fb-f02d-3112fda32c4e"
      },
      "execution_count": 54,
      "outputs": [
        {
          "output_type": "stream",
          "name": "stdout",
          "text": [
            "Model: \"sequential_6\"\n",
            "_________________________________________________________________\n",
            " Layer (type)                Output Shape              Param #   \n",
            "=================================================================\n",
            " conv2d_24 (Conv2D)          (None, 12, 12, 32)        832       \n",
            "                                                                 \n",
            " conv2d_25 (Conv2D)          (None, 4, 4, 64)          51264     \n",
            "                                                                 \n",
            " layer_normalization_1 (Laye  (None, 4, 4, 64)         128       \n",
            " rNormalization)                                                 \n",
            "                                                                 \n",
            " max_pooling2d_16 (MaxPoolin  (None, 2, 2, 64)         0         \n",
            " g2D)                                                            \n",
            "                                                                 \n",
            " dropout_16 (Dropout)        (None, 2, 2, 64)          0         \n",
            "                                                                 \n",
            " dense_10 (Dense)            (None, 2, 2, 128)         8320      \n",
            "                                                                 \n",
            " dropout_17 (Dropout)        (None, 2, 2, 128)         0         \n",
            "                                                                 \n",
            " flatten_7 (Flatten)         (None, 512)               0         \n",
            "                                                                 \n",
            " dense_11 (Dense)            (None, 1)                 513       \n",
            "                                                                 \n",
            "=================================================================\n",
            "Total params: 61,057\n",
            "Trainable params: 61,057\n",
            "Non-trainable params: 0\n",
            "_________________________________________________________________\n"
          ]
        }
      ]
    },
    {
      "cell_type": "code",
      "source": [
        "from tensorflow.keras.optimizers import Adam\n",
        "adam = Adam(learning_rate=0.01)\n",
        "m4model.compile(optimizer=adam, loss = 'hinge', metrics=['accuracy'])"
      ],
      "metadata": {
        "id": "B3vyCXXIaLn0"
      },
      "execution_count": 55,
      "outputs": []
    },
    {
      "cell_type": "code",
      "source": [
        "history4 = m4model.fit(train_images, train_labels, epochs = 5, batch_size=128, validation_data=(val_images, val_labels))"
      ],
      "metadata": {
        "colab": {
          "base_uri": "https://localhost:8080/"
        },
        "id": "tEPsRyXebEH1",
        "outputId": "8810ee1c-4524-40fc-895f-8ca3730426b8"
      },
      "execution_count": 56,
      "outputs": [
        {
          "output_type": "stream",
          "name": "stdout",
          "text": [
            "Epoch 1/5\n",
            "430/430 [==============================] - 19s 42ms/step - loss: 0.6200 - accuracy: 0.8728 - val_loss: 0.5433 - val_accuracy: 0.9493\n",
            "Epoch 2/5\n",
            "430/430 [==============================] - 17s 40ms/step - loss: 0.5727 - accuracy: 0.9190 - val_loss: 0.5352 - val_accuracy: 0.9578\n",
            "Epoch 3/5\n",
            "430/430 [==============================] - 17s 41ms/step - loss: 0.5743 - accuracy: 0.9173 - val_loss: 0.5442 - val_accuracy: 0.9482\n",
            "Epoch 4/5\n",
            "430/430 [==============================] - 20s 47ms/step - loss: 0.5662 - accuracy: 0.9253 - val_loss: 0.5328 - val_accuracy: 0.9600\n",
            "Epoch 5/5\n",
            "430/430 [==============================] - 18s 42ms/step - loss: 0.5682 - accuracy: 0.9234 - val_loss: 0.5382 - val_accuracy: 0.9544\n"
          ]
        }
      ]
    },
    {
      "cell_type": "code",
      "source": [
        "histm4 = m4model.evaluate(test_images, test_labels)"
      ],
      "metadata": {
        "colab": {
          "base_uri": "https://localhost:8080/"
        },
        "id": "a30Cdl0sqKG_",
        "outputId": "ccbfd7f9-2210-485b-a53b-6471395e809b"
      },
      "execution_count": 57,
      "outputs": [
        {
          "output_type": "stream",
          "name": "stdout",
          "text": [
            "157/157 [==============================] - 1s 6ms/step - loss: 0.5309 - accuracy: 0.9604\n"
          ]
        }
      ]
    },
    {
      "cell_type": "code",
      "source": [
        "#MNIST Model 5 - increasing the receptive field by using the dilation_rate, used Layer normalization - achieved good accuracy\n",
        "m5model = models.Sequential()\n",
        "#mmodel.Input(shape=(28, 28, 1))\n",
        "m5model.add(layers.Conv2D(32, kernel_size=(3, 3), dilation_rate = 2, kernel_initializer = 'he_normal', padding='valid', activation=\"relu\", input_shape=(28, 28, 1)))\n",
        "#m3model.add(layers.BatchNormalization())\n",
        "#m3model.add(layers.MaxPool2D(pool_size = (2,2)))\n",
        "#m3model.add(layers.Dropout(0.2))\n",
        "m5model.add(layers.Conv2D(64, kernel_size=(3, 3), dilation_rate = 2, kernel_initializer = 'he_normal', padding ='valid', activation=\"relu\"))\n",
        "#m3model.add(layers.BatchNormalization())\n",
        "#m3model.add(layers.MaxPool2D(pool_size = (2,2)))\n",
        "#m3model.add(layers.Dropout(0.2))\n",
        "#m3model.add(layers.Conv2D(64, kernel_size=(5, 5), strides=(2, 2), kernel_initializer = 'he_normal', padding ='valid', activation=\"relu\", input_shape=(28, 28, 1)))\n",
        "m5model.add(layers.LayerNormalization())\n",
        "m5model.add(layers.MaxPool2D(pool_size = (2,2)))\n",
        "m5model.add(layers.Dropout(0.2))\n",
        "m5model.add(layers.Dense(128, kernel_initializer = 'he_normal', activation=\"relu\"))\n",
        "m5model.add(layers.Dropout(0.2))\n",
        "m5model.add(layers.Flatten())\n",
        "m5model.add(layers.Dense(1, activation=\"sigmoid\"))\n",
        "m5model.summary()\n"
      ],
      "metadata": {
        "colab": {
          "base_uri": "https://localhost:8080/"
        },
        "id": "x78fVDi9ffcr",
        "outputId": "00c47f4e-83ec-458e-c8b1-d7a06c84f603"
      },
      "execution_count": 58,
      "outputs": [
        {
          "output_type": "stream",
          "name": "stdout",
          "text": [
            "Model: \"sequential_7\"\n",
            "_________________________________________________________________\n",
            " Layer (type)                Output Shape              Param #   \n",
            "=================================================================\n",
            " conv2d_26 (Conv2D)          (None, 24, 24, 32)        320       \n",
            "                                                                 \n",
            " conv2d_27 (Conv2D)          (None, 20, 20, 64)        18496     \n",
            "                                                                 \n",
            " layer_normalization_2 (Laye  (None, 20, 20, 64)       128       \n",
            " rNormalization)                                                 \n",
            "                                                                 \n",
            " max_pooling2d_17 (MaxPoolin  (None, 10, 10, 64)       0         \n",
            " g2D)                                                            \n",
            "                                                                 \n",
            " dropout_18 (Dropout)        (None, 10, 10, 64)        0         \n",
            "                                                                 \n",
            " dense_12 (Dense)            (None, 10, 10, 128)       8320      \n",
            "                                                                 \n",
            " dropout_19 (Dropout)        (None, 10, 10, 128)       0         \n",
            "                                                                 \n",
            " flatten_8 (Flatten)         (None, 12800)             0         \n",
            "                                                                 \n",
            " dense_13 (Dense)            (None, 1)                 12801     \n",
            "                                                                 \n",
            "=================================================================\n",
            "Total params: 40,065\n",
            "Trainable params: 40,065\n",
            "Non-trainable params: 0\n",
            "_________________________________________________________________\n"
          ]
        }
      ]
    },
    {
      "cell_type": "code",
      "source": [
        "from tensorflow.keras.optimizers import Adam\n",
        "adam = Adam(learning_rate=0.01)\n",
        "m5model.compile(optimizer=adam, loss = 'binary_crossentropy', metrics=['accuracy'])"
      ],
      "metadata": {
        "id": "-4mklV19hLx_"
      },
      "execution_count": 59,
      "outputs": []
    },
    {
      "cell_type": "code",
      "source": [
        "history5 = m5model.fit(train_images, train_labels, epochs = 5, batch_size=128, validation_data=(val_images, val_labels))"
      ],
      "metadata": {
        "colab": {
          "base_uri": "https://localhost:8080/"
        },
        "id": "E6WoMo-MhVUZ",
        "outputId": "0be98312-02d3-4bd9-cd67-0559a1d2d95d"
      },
      "execution_count": 60,
      "outputs": [
        {
          "output_type": "stream",
          "name": "stdout",
          "text": [
            "Epoch 1/5\n",
            "430/430 [==============================] - 173s 400ms/step - loss: 0.3834 - accuracy: 0.9035 - val_loss: 0.0797 - val_accuracy: 0.9729\n",
            "Epoch 2/5\n",
            "430/430 [==============================] - 185s 431ms/step - loss: 0.0865 - accuracy: 0.9700 - val_loss: 0.0577 - val_accuracy: 0.9817\n",
            "Epoch 3/5\n",
            "430/430 [==============================] - 199s 462ms/step - loss: 0.0726 - accuracy: 0.9755 - val_loss: 0.0481 - val_accuracy: 0.9831\n",
            "Epoch 4/5\n",
            "430/430 [==============================] - 189s 440ms/step - loss: 0.0557 - accuracy: 0.9817 - val_loss: 0.0405 - val_accuracy: 0.9862\n",
            "Epoch 5/5\n",
            "430/430 [==============================] - 182s 423ms/step - loss: 0.0512 - accuracy: 0.9827 - val_loss: 0.0375 - val_accuracy: 0.9870\n"
          ]
        }
      ]
    },
    {
      "cell_type": "code",
      "source": [
        "score3 = m3model.evaluate(test_images, test_labels, verbose = 0)\n",
        "score3"
      ],
      "metadata": {
        "colab": {
          "base_uri": "https://localhost:8080/"
        },
        "id": "RnICXoPOOMqx",
        "outputId": "1a2672c0-993a-47c4-c51f-ceec0aed7636"
      },
      "execution_count": 99,
      "outputs": [
        {
          "output_type": "execute_result",
          "data": {
            "text/plain": [
              "[0.03457548841834068, 0.9908000230789185]"
            ]
          },
          "metadata": {},
          "execution_count": 99
        }
      ]
    },
    {
      "cell_type": "code",
      "source": [
        "score2 = m2model.evaluate(test_images, test_labels, verbose = 0)\n",
        "score2\n",
        "#best accuracy\n",
        "#pred = m2model.predict(test_images[1])"
      ],
      "metadata": {
        "colab": {
          "base_uri": "https://localhost:8080/"
        },
        "id": "KeyHQpXcZXlg",
        "outputId": "177bc76c-c530-46e8-dacf-497d2321e910"
      },
      "execution_count": 62,
      "outputs": [
        {
          "output_type": "execute_result",
          "data": {
            "text/plain": [
              "[0.02483520843088627, 0.9926000237464905]"
            ]
          },
          "metadata": {},
          "execution_count": 62
        }
      ]
    },
    {
      "cell_type": "code",
      "source": [
        "score4 = m4model.evaluate(test_images, test_labels, verbose = 0)\n",
        "score4"
      ],
      "metadata": {
        "colab": {
          "base_uri": "https://localhost:8080/"
        },
        "id": "QzXJJGtQv-dc",
        "outputId": "eb4ac03a-1f8d-41f9-aad2-a089884e6171"
      },
      "execution_count": 63,
      "outputs": [
        {
          "output_type": "execute_result",
          "data": {
            "text/plain": [
              "[0.5309025645256042, 0.9603999853134155]"
            ]
          },
          "metadata": {},
          "execution_count": 63
        }
      ]
    },
    {
      "cell_type": "code",
      "source": [
        "score5 = m5model.evaluate(test_images, test_labels, verbose = 0)\n",
        "score5"
      ],
      "metadata": {
        "colab": {
          "base_uri": "https://localhost:8080/"
        },
        "id": "bfgGioclwDAm",
        "outputId": "fe24b4fc-9055-4a39-9d4e-98b235cfa991"
      },
      "execution_count": 64,
      "outputs": [
        {
          "output_type": "execute_result",
          "data": {
            "text/plain": [
              "[0.03872005268931389, 0.9878000020980835]"
            ]
          },
          "metadata": {},
          "execution_count": 64
        }
      ]
    },
    {
      "cell_type": "markdown",
      "source": [
        "PART 3\n"
      ],
      "metadata": {
        "id": "-x8EN3qBCpp9"
      }
    },
    {
      "cell_type": "code",
      "source": [
        "import cv2\n",
        "import numpy as np\n",
        "from google.colab.patches import cv2_imshow\n"
      ],
      "metadata": {
        "id": "IcDK5g6krbwz"
      },
      "execution_count": 65,
      "outputs": []
    },
    {
      "cell_type": "code",
      "source": [
        "filename = \"img3.jpg\"\n",
        "#filename = \"three.png\"\n",
        "image = cv2.imread(filename)\n",
        "image.shape\n",
        "#cv2_imshow(image)"
      ],
      "metadata": {
        "colab": {
          "base_uri": "https://localhost:8080/"
        },
        "id": "06WpTrPLyqVE",
        "outputId": "2b17440c-641c-4046-8783-1b9a0c887892"
      },
      "execution_count": 100,
      "outputs": [
        {
          "output_type": "execute_result",
          "data": {
            "text/plain": [
              "(28, 28, 3)"
            ]
          },
          "metadata": {},
          "execution_count": 100
        }
      ]
    },
    {
      "cell_type": "code",
      "source": [
        "image.shape\n",
        "image = cv2.resize(image, (28, 28))\n",
        "cv2_imshow(image)"
      ],
      "metadata": {
        "colab": {
          "base_uri": "https://localhost:8080/",
          "height": 45
        },
        "id": "LFl3YjU8yqYt",
        "outputId": "58936352-a6ea-4556-d116-8a84e5462af6"
      },
      "execution_count": 101,
      "outputs": [
        {
          "output_type": "display_data",
          "data": {
            "text/plain": [
              "<PIL.Image.Image image mode=RGB size=28x28 at 0x7FE560F146D0>"
            ],
            "image/png": "[encoded data removed]"
          },
          "metadata": {}
        }
      ]
    },
    {
      "cell_type": "code",
      "source": [
        "import matplotlib\n",
        "matplotlib.pyplot.imshow(image)"
      ],
      "metadata": {
        "colab": {
          "base_uri": "https://localhost:8080/",
          "height": 282
        },
        "id": "RhqzT0ESM_tB",
        "outputId": "ddcb5f57-abdf-4829-bf40-a69146dcab9d"
      },
      "execution_count": 102,
      "outputs": [
        {
          "output_type": "execute_result",
          "data": {
            "text/plain": [
              "<matplotlib.image.AxesImage at 0x7fe560f5ab50>"
            ]
          },
          "metadata": {},
          "execution_count": 102
        },
        {
          "output_type": "display_data",
          "data": {
            "text/plain": [
              "<Figure size 432x288 with 1 Axes>"
            ],
            "image/png": "[encoded data removed]"
          },
          "metadata": {
            "needs_background": "light"
          }
        }
      ]
    },
    {
      "cell_type": "code",
      "source": [
        "image.shape"
      ],
      "metadata": {
        "colab": {
          "base_uri": "https://localhost:8080/"
        },
        "id": "YxbFMKJyrdyG",
        "outputId": "a3d9476b-7fc0-47d8-f56f-8c44efde5c89"
      },
      "execution_count": 103,
      "outputs": [
        {
          "output_type": "execute_result",
          "data": {
            "text/plain": [
              "(28, 28, 3)"
            ]
          },
          "metadata": {},
          "execution_count": 103
        }
      ]
    },
    {
      "cell_type": "code",
      "source": [
        "gimage = cv2.cvtColor(image, cv2.COLOR_BGR2GRAY)\n",
        "gimage.shape"
      ],
      "metadata": {
        "colab": {
          "base_uri": "https://localhost:8080/"
        },
        "id": "5ki5FYDC4xTd",
        "outputId": "d1440bdf-0c94-4b42-f959-eab4011d52fc"
      },
      "execution_count": 104,
      "outputs": [
        {
          "output_type": "execute_result",
          "data": {
            "text/plain": [
              "(28, 28)"
            ]
          },
          "metadata": {},
          "execution_count": 104
        }
      ]
    },
    {
      "cell_type": "code",
      "source": [
        "#gimage = gimage.reshape((28, 28, 1))\n",
        "gimage.shape\n",
        "cv2_imshow(gimage)"
      ],
      "metadata": {
        "colab": {
          "base_uri": "https://localhost:8080/",
          "height": 45
        },
        "id": "EPn2FYsu5WQI",
        "outputId": "7e8c084f-7666-4c1f-f43a-6550d8fe19ae"
      },
      "execution_count": 105,
      "outputs": [
        {
          "output_type": "display_data",
          "data": {
            "text/plain": [
              "<PIL.Image.Image image mode=L size=28x28 at 0x7FE5612308D0>"
            ],
            "image/png": "[encoded data removed]"
          },
          "metadata": {}
        }
      ]
    },
    {
      "cell_type": "code",
      "source": [
        "gimage = cv2.GaussianBlur(gimage, (3,3), 0)\n",
        "#gimage = gimage.reshape((28, 28, 1))\n",
        "gimage.shape\n",
        "cv2_imshow(gimage)"
      ],
      "metadata": {
        "colab": {
          "base_uri": "https://localhost:8080/",
          "height": 45
        },
        "id": "IS7re7JI5r6W",
        "outputId": "40b15b97-094b-45ea-8062-66bd70552ef3"
      },
      "execution_count": 106,
      "outputs": [
        {
          "output_type": "display_data",
          "data": {
            "text/plain": [
              "<PIL.Image.Image image mode=L size=28x28 at 0x7FE56125DD90>"
            ],
            "image/png": "[encoded data removed]"
          },
          "metadata": {}
        }
      ]
    },
    {
      "cell_type": "code",
      "source": [
        "bimage = cv2.adaptiveThreshold(gimage, 255, cv2.ADAPTIVE_THRESH_GAUSSIAN_C, cv2.THRESH_BINARY, 11, 2)                                                                          "
      ],
      "metadata": {
        "id": "cYpp_5np8FKi"
      },
      "execution_count": 107,
      "outputs": []
    },
    {
      "cell_type": "code",
      "source": [
        "cv2_imshow(bimage)"
      ],
      "metadata": {
        "colab": {
          "base_uri": "https://localhost:8080/",
          "height": 45
        },
        "id": "QX9ssM4-88fg",
        "outputId": "21ac052f-cd53-4c2d-9894-3c135af4065b"
      },
      "execution_count": 108,
      "outputs": [
        {
          "output_type": "display_data",
          "data": {
            "text/plain": [
              "<PIL.Image.Image image mode=L size=28x28 at 0x7FE5612300D0>"
            ],
            "image/png": "[encoded data removed]"
          },
          "metadata": {}
        }
      ]
    },
    {
      "cell_type": "code",
      "source": [
        "matplotlib.pyplot.imshow(bimage)"
      ],
      "metadata": {
        "colab": {
          "base_uri": "https://localhost:8080/",
          "height": 282
        },
        "id": "inJWZikuNVrU",
        "outputId": "38f03fcd-f3d8-4f15-92e5-eab63d5df153"
      },
      "execution_count": 109,
      "outputs": [
        {
          "output_type": "execute_result",
          "data": {
            "text/plain": [
              "<matplotlib.image.AxesImage at 0x7fe561238750>"
            ]
          },
          "metadata": {},
          "execution_count": 109
        },
        {
          "output_type": "display_data",
          "data": {
            "text/plain": [
              "<Figure size 432x288 with 1 Axes>"
            ],
            "image/png": "[encoded data removed]"
          },
          "metadata": {
            "needs_background": "light"
          }
        }
      ]
    },
    {
      "cell_type": "code",
      "source": [
        "bimage = bimage.reshape((1, 28, 28, 1))\n",
        "bimage.shape"
      ],
      "metadata": {
        "colab": {
          "base_uri": "https://localhost:8080/"
        },
        "id": "ysoPkcNg97zD",
        "outputId": "7ba5f57f-f5d5-44d3-da6c-b140fe4044cd"
      },
      "execution_count": 110,
      "outputs": [
        {
          "output_type": "execute_result",
          "data": {
            "text/plain": [
              "(1, 28, 28, 1)"
            ]
          },
          "metadata": {},
          "execution_count": 110
        }
      ]
    },
    {
      "cell_type": "code",
      "source": [
        "#from keras.preprocessing import image\n",
        "bimage = bimage.astype('float32')/255\n",
        "bimage.shape\n",
        "#bimage = image.img_to_array(bimage)\n",
        "#bimage = np.expand_dims(bimage, axis = 0)\n"
      ],
      "metadata": {
        "colab": {
          "base_uri": "https://localhost:8080/"
        },
        "id": "Fj_ki8mxOmSy",
        "outputId": "00b5ff77-def7-4a78-e766-3c4cf9c90a32"
      },
      "execution_count": 111,
      "outputs": [
        {
          "output_type": "execute_result",
          "data": {
            "text/plain": [
              "(1, 28, 28, 1)"
            ]
          },
          "metadata": {},
          "execution_count": 111
        }
      ]
    },
    {
      "cell_type": "code",
      "source": [
        "#bimage = preprocess_input"
      ],
      "metadata": {
        "id": "HThh0SsMXbnr"
      },
      "execution_count": 112,
      "outputs": []
    },
    {
      "cell_type": "code",
      "source": [
        "bpred = mmodel.predict(bimage)\n",
        "print(bpred)"
      ],
      "metadata": {
        "colab": {
          "base_uri": "https://localhost:8080/"
        },
        "id": "z2Uk4BY0FA_P",
        "outputId": "8df79af3-5f7d-4ab5-ac8c-cabca9ce9ee3"
      },
      "execution_count": 113,
      "outputs": [
        {
          "output_type": "stream",
          "name": "stdout",
          "text": [
            "[[0.967953]]\n"
          ]
        }
      ]
    },
    {
      "cell_type": "code",
      "source": [
        "if bpred < 0.5:\n",
        "  print(\"even number\")\n",
        "else:\n",
        "  print(\"odd number\")"
      ],
      "metadata": {
        "colab": {
          "base_uri": "https://localhost:8080/"
        },
        "id": "3wJRsbw2VQ_e",
        "outputId": "57f0374c-15ea-4db0-beff-ce256bc593c2"
      },
      "execution_count": 114,
      "outputs": [
        {
          "output_type": "stream",
          "name": "stdout",
          "text": [
            "odd number\n"
          ]
        }
      ]
    },
    {
      "cell_type": "markdown",
      "metadata": {
        "id": "bynUnu1hc2ch"
      },
      "source": [
        "Part 4: CIFAR10"
      ]
    },
    {
      "cell_type": "code",
      "execution_count": 4,
      "metadata": {
        "id": "FwWdu15Vc6NH",
        "colab": {
          "base_uri": "https://localhost:8080/"
        },
        "outputId": "823afc14-c684-4394-e34d-25136d41e625"
      },
      "outputs": [
        {
          "output_type": "stream",
          "name": "stdout",
          "text": [
            "Downloading data from https://www.cs.toronto.edu/~kriz/cifar-10-python.tar.gz\n",
            "170500096/170498071 [==============================] - 2s 0us/step\n",
            "170508288/170498071 [==============================] - 2s 0us/step\n"
          ]
        }
      ],
      "source": [
        "#tf.keras.datasets.cifar10.load_data()\n",
        "from keras.datasets import cifar10\n",
        "(ctrain_images, ctrain_labels), (ctest_images, ctest_labels) = cifar10.load_data()\n"
      ]
    },
    {
      "cell_type": "code",
      "execution_count": 4,
      "metadata": {
        "id": "0aFzNihGdIWB"
      },
      "outputs": [],
      "source": [
        "#(ctrain_images, ctrain_labels), (ctest_images, ctest_labels) = cifar10.load_data()"
      ]
    },
    {
      "cell_type": "code",
      "source": [
        "ctrain_images.shape\n"
      ],
      "metadata": {
        "colab": {
          "base_uri": "https://localhost:8080/"
        },
        "id": "RLBHq2LC0C6r",
        "outputId": "3b934442-256a-4380-9745-a6038fdd01eb"
      },
      "execution_count": 5,
      "outputs": [
        {
          "output_type": "execute_result",
          "data": {
            "text/plain": [
              "(50000, 32, 32, 3)"
            ]
          },
          "metadata": {},
          "execution_count": 5
        }
      ]
    },
    {
      "cell_type": "code",
      "source": [
        "#len(ctrain_labels)\n",
        "ctrain_labels\n"
      ],
      "metadata": {
        "colab": {
          "base_uri": "https://localhost:8080/"
        },
        "id": "vdfNyso94kHv",
        "outputId": "fa11d9bc-c22a-4803-a7b1-62f9bf6c411d"
      },
      "execution_count": 6,
      "outputs": [
        {
          "output_type": "execute_result",
          "data": {
            "text/plain": [
              "array([[6],\n",
              "       [9],\n",
              "       [9],\n",
              "       ...,\n",
              "       [9],\n",
              "       [1],\n",
              "       [1]], dtype=uint8)"
            ]
          },
          "metadata": {},
          "execution_count": 6
        }
      ]
    },
    {
      "cell_type": "code",
      "source": [
        "ctest_images.shape\n"
      ],
      "metadata": {
        "colab": {
          "base_uri": "https://localhost:8080/"
        },
        "id": "hC5axqBj0Uwu",
        "outputId": "53d5479c-d1fc-4abc-c334-b63c63003a7a"
      },
      "execution_count": 7,
      "outputs": [
        {
          "output_type": "execute_result",
          "data": {
            "text/plain": [
              "(10000, 32, 32, 3)"
            ]
          },
          "metadata": {},
          "execution_count": 7
        }
      ]
    },
    {
      "cell_type": "code",
      "source": [
        "#len(ctest_labels)\n",
        "ctest_labels"
      ],
      "metadata": {
        "colab": {
          "base_uri": "https://localhost:8080/"
        },
        "id": "ykNCQ0vf4ohM",
        "outputId": "d5eb91f2-17a8-4fef-ed2e-8b67145328b5"
      },
      "execution_count": 8,
      "outputs": [
        {
          "output_type": "execute_result",
          "data": {
            "text/plain": [
              "array([[3],\n",
              "       [8],\n",
              "       [8],\n",
              "       ...,\n",
              "       [5],\n",
              "       [1],\n",
              "       [7]], dtype=uint8)"
            ]
          },
          "metadata": {},
          "execution_count": 8
        }
      ]
    },
    {
      "cell_type": "code",
      "source": [
        "from tensorflow.keras.optimizers import SGD"
      ],
      "metadata": {
        "id": "YeD976Yx0c8A"
      },
      "execution_count": 10,
      "outputs": []
    },
    {
      "cell_type": "code",
      "source": [
        "#ctrain_images = ctrain_images.reshape((60000, 28, 28, 1))\n",
        "ctrain_images = ctrain_images.astype('float32')/255\n",
        "ctrain_images.shape"
      ],
      "metadata": {
        "colab": {
          "base_uri": "https://localhost:8080/"
        },
        "id": "RkyV-0cw55Rv",
        "outputId": "3dba9b2e-bba9-46a4-8744-87834257869a"
      },
      "execution_count": 9,
      "outputs": [
        {
          "output_type": "execute_result",
          "data": {
            "text/plain": [
              "(50000, 32, 32, 3)"
            ]
          },
          "metadata": {},
          "execution_count": 9
        }
      ]
    },
    {
      "cell_type": "code",
      "source": [
        "ctest_images = ctest_images.astype('float32')/255\n",
        "ctest_images.shape"
      ],
      "metadata": {
        "colab": {
          "base_uri": "https://localhost:8080/"
        },
        "id": "af7EknlrVOg_",
        "outputId": "075068fd-c6be-4820-c41e-53473fa57866"
      },
      "execution_count": 11,
      "outputs": [
        {
          "output_type": "execute_result",
          "data": {
            "text/plain": [
              "(10000, 32, 32, 3)"
            ]
          },
          "metadata": {},
          "execution_count": 11
        }
      ]
    },
    {
      "cell_type": "code",
      "source": [
        "from tensorflow.keras.utils import to_categorical\n",
        "ctrain_labels = to_categorical(ctrain_labels)\n",
        "ctrain_labels"
      ],
      "metadata": {
        "colab": {
          "base_uri": "https://localhost:8080/"
        },
        "id": "kO316b_1VmVN",
        "outputId": "702027af-a565-4cc0-fb7d-22cf3cf903b0"
      },
      "execution_count": 12,
      "outputs": [
        {
          "output_type": "execute_result",
          "data": {
            "text/plain": [
              "array([[0., 0., 0., ..., 0., 0., 0.],\n",
              "       [0., 0., 0., ..., 0., 0., 1.],\n",
              "       [0., 0., 0., ..., 0., 0., 1.],\n",
              "       ...,\n",
              "       [0., 0., 0., ..., 0., 0., 1.],\n",
              "       [0., 1., 0., ..., 0., 0., 0.],\n",
              "       [0., 1., 0., ..., 0., 0., 0.]], dtype=float32)"
            ]
          },
          "metadata": {},
          "execution_count": 12
        }
      ]
    },
    {
      "cell_type": "code",
      "source": [
        "ctest_labels = to_categorical(ctest_labels)\n",
        "ctest_labels"
      ],
      "metadata": {
        "colab": {
          "base_uri": "https://localhost:8080/"
        },
        "id": "Ahj408MpV8Tl",
        "outputId": "51cbdcc2-dd31-4346-e0ff-cad3df0721ba"
      },
      "execution_count": 13,
      "outputs": [
        {
          "output_type": "execute_result",
          "data": {
            "text/plain": [
              "array([[0., 0., 0., ..., 0., 0., 0.],\n",
              "       [0., 0., 0., ..., 0., 1., 0.],\n",
              "       [0., 0., 0., ..., 0., 1., 0.],\n",
              "       ...,\n",
              "       [0., 0., 0., ..., 0., 0., 0.],\n",
              "       [0., 1., 0., ..., 0., 0., 0.],\n",
              "       [0., 0., 0., ..., 1., 0., 0.]], dtype=float32)"
            ]
          },
          "metadata": {},
          "execution_count": 13
        }
      ]
    },
    {
      "cell_type": "code",
      "source": [
        "cmodel = models.Sequential()\n",
        "#mmodel.Input(shape=(28, 28, 1))\n",
        "cmodel.add(layers.Conv2D(32, kernel_size=(3, 3), activation=\"relu\", input_shape=(32, 32, 3)))\n",
        "cmodel.add(layers.MaxPool2D(pool_size = (2,2)))\n",
        "cmodel.add(layers.Conv2D(64, kernel_size=(3, 3), activation=\"relu\"))\n",
        "cmodel.add(layers.MaxPool2D(pool_size = (2,2)))\n",
        "cmodel.add(layers.Dropout(0.5))\n",
        "cmodel.add(layers.Dense(16, activation=\"relu\"))\n",
        "cmodel.add(layers.Flatten())\n",
        "cmodel.add(layers.Dense(10, activation=\"softmax\"))\n",
        "cmodel.summary()\n"
      ],
      "metadata": {
        "colab": {
          "base_uri": "https://localhost:8080/"
        },
        "id": "zsAxOj8RWi9p",
        "outputId": "3da73b3c-b9e9-48ef-bfc7-45a270cfc8a7"
      },
      "execution_count": 82,
      "outputs": [
        {
          "output_type": "stream",
          "name": "stdout",
          "text": [
            "Model: \"sequential_8\"\n",
            "_________________________________________________________________\n",
            " Layer (type)                Output Shape              Param #   \n",
            "=================================================================\n",
            " conv2d_28 (Conv2D)          (None, 30, 30, 32)        896       \n",
            "                                                                 \n",
            " max_pooling2d_18 (MaxPoolin  (None, 15, 15, 32)       0         \n",
            " g2D)                                                            \n",
            "                                                                 \n",
            " conv2d_29 (Conv2D)          (None, 13, 13, 64)        18496     \n",
            "                                                                 \n",
            " max_pooling2d_19 (MaxPoolin  (None, 6, 6, 64)         0         \n",
            " g2D)                                                            \n",
            "                                                                 \n",
            " dropout_20 (Dropout)        (None, 6, 6, 64)          0         \n",
            "                                                                 \n",
            " dense_14 (Dense)            (None, 6, 6, 16)          1040      \n",
            "                                                                 \n",
            " flatten_9 (Flatten)         (None, 576)               0         \n",
            "                                                                 \n",
            " dense_15 (Dense)            (None, 10)                5770      \n",
            "                                                                 \n",
            "=================================================================\n",
            "Total params: 26,202\n",
            "Trainable params: 26,202\n",
            "Non-trainable params: 0\n",
            "_________________________________________________________________\n"
          ]
        }
      ]
    },
    {
      "cell_type": "code",
      "source": [
        "from keras.backend import learning_phase\n",
        "from tensorflow.keras.optimizers import SGD\n",
        "sgd = SGD(learning_rate=0.01, decay=1e-6, momentum=0.9, nesterov=True)\n",
        "cmodel.compile(optimizer=sgd, loss = 'categorical_crossentropy', metrics=['accuracy'])"
      ],
      "metadata": {
        "id": "s2dKaQvwW-Li"
      },
      "execution_count": 83,
      "outputs": []
    },
    {
      "cell_type": "code",
      "source": [
        "ctrain_images.shape"
      ],
      "metadata": {
        "colab": {
          "base_uri": "https://localhost:8080/"
        },
        "id": "OIEOqGdib6MR",
        "outputId": "6c319326-7c48-49d5-bce9-adc0144eb49d"
      },
      "execution_count": 84,
      "outputs": [
        {
          "output_type": "execute_result",
          "data": {
            "text/plain": [
              "(50000, 32, 32, 3)"
            ]
          },
          "metadata": {},
          "execution_count": 84
        }
      ]
    },
    {
      "cell_type": "code",
      "source": [
        "ctrain_labels.shape"
      ],
      "metadata": {
        "colab": {
          "base_uri": "https://localhost:8080/"
        },
        "id": "WdjGDNYfb-mP",
        "outputId": "cc69f83e-1fc1-4219-da84-4c2bc6dde9bb"
      },
      "execution_count": 85,
      "outputs": [
        {
          "output_type": "execute_result",
          "data": {
            "text/plain": [
              "(50000, 10)"
            ]
          },
          "metadata": {},
          "execution_count": 85
        }
      ]
    },
    {
      "cell_type": "code",
      "source": [
        "chistory = cmodel.fit(ctrain_images, ctrain_labels, epochs = 5, batch_size=128, validation_data=(ctest_images, ctest_labels))"
      ],
      "metadata": {
        "colab": {
          "base_uri": "https://localhost:8080/"
        },
        "id": "PdMDbZuUXFk4",
        "outputId": "54a9eb07-40e2-41a7-bbd9-6bf25a3138a6"
      },
      "execution_count": 86,
      "outputs": [
        {
          "output_type": "stream",
          "name": "stdout",
          "text": [
            "Epoch 1/5\n",
            "391/391 [==============================] - 61s 156ms/step - loss: 2.0124 - accuracy: 0.2614 - val_loss: 1.6792 - val_accuracy: 0.4072\n",
            "Epoch 2/5\n",
            "391/391 [==============================] - 63s 160ms/step - loss: 1.5886 - accuracy: 0.4285 - val_loss: 1.4746 - val_accuracy: 0.4769\n",
            "Epoch 3/5\n",
            "391/391 [==============================] - 60s 154ms/step - loss: 1.4331 - accuracy: 0.4866 - val_loss: 1.3374 - val_accuracy: 0.5201\n",
            "Epoch 4/5\n",
            "391/391 [==============================] - 62s 158ms/step - loss: 1.3464 - accuracy: 0.5199 - val_loss: 1.2864 - val_accuracy: 0.5443\n",
            "Epoch 5/5\n",
            "391/391 [==============================] - 60s 154ms/step - loss: 1.2805 - accuracy: 0.5449 - val_loss: 1.2021 - val_accuracy: 0.5764\n"
          ]
        }
      ]
    },
    {
      "cell_type": "code",
      "source": [
        "cmodel.save(\"cmodel\")"
      ],
      "metadata": {
        "colab": {
          "base_uri": "https://localhost:8080/"
        },
        "id": "2TDErOFUo-PU",
        "outputId": "770cc7a2-e6ea-4a9c-c372-769e3f56b04c"
      },
      "execution_count": 87,
      "outputs": [
        {
          "output_type": "stream",
          "name": "stdout",
          "text": [
            "INFO:tensorflow:Assets written to: cmodel/assets\n"
          ]
        }
      ]
    },
    {
      "cell_type": "code",
      "source": [
        "#best model - added many convolution, pooling, dropout layers\n",
        "\n",
        "c1model = models.Sequential()\n",
        "#mmodel.Input(shape=(28, 28, 1))\n",
        "c1model.add(layers.Conv2D(32, kernel_size=(3, 3), activation=\"relu\", input_shape=(32, 32, 3)))\n",
        "c1model.add(layers.BatchNormalization())\n",
        "c1model.add(layers.MaxPool2D(pool_size = (2,2)))\n",
        "c1model.add(layers.Dropout(0.2))\n",
        "c1model.add(layers.Conv2D(64, kernel_size=(3, 3), activation=\"relu\"))\n",
        "c1model.add(layers.BatchNormalization())\n",
        "c1model.add(layers.MaxPool2D(pool_size = (2,2)))\n",
        "c1model.add(layers.Dropout(0.2))\n",
        "c1model.add(layers.Conv2D(128, kernel_size=(3, 3), activation=\"relu\"))\n",
        "#cmodel.add(layers.BatchNormalization())\n",
        "#cmodel.add(layers.MaxPool2D(pool_size = (2,2)))\n",
        "#cmodel.add(layers.Dropout(0.2))\n",
        "c1model.add(layers.Conv2D(128, kernel_size=(3, 3), activation=\"relu\"))\n",
        "c1model.add(layers.BatchNormalization())\n",
        "c1model.add(layers.MaxPool2D(pool_size = (2,2)))\n",
        "c1model.add(layers.Dropout(0.2))\n",
        "c1model.add(layers.Flatten())\n",
        "c1model.add(layers.Dense(10, activation=\"softmax\"))\n",
        "c1model.summary()\n"
      ],
      "metadata": {
        "colab": {
          "base_uri": "https://localhost:8080/"
        },
        "id": "k-HRBgojmlXS",
        "outputId": "0277d011-4b8c-4a03-81b5-af441fd9b4ba"
      },
      "execution_count": 88,
      "outputs": [
        {
          "output_type": "stream",
          "name": "stdout",
          "text": [
            "Model: \"sequential_9\"\n",
            "_________________________________________________________________\n",
            " Layer (type)                Output Shape              Param #   \n",
            "=================================================================\n",
            " conv2d_30 (Conv2D)          (None, 30, 30, 32)        896       \n",
            "                                                                 \n",
            " batch_normalization_14 (Bat  (None, 30, 30, 32)       128       \n",
            " chNormalization)                                                \n",
            "                                                                 \n",
            " max_pooling2d_20 (MaxPoolin  (None, 15, 15, 32)       0         \n",
            " g2D)                                                            \n",
            "                                                                 \n",
            " dropout_21 (Dropout)        (None, 15, 15, 32)        0         \n",
            "                                                                 \n",
            " conv2d_31 (Conv2D)          (None, 13, 13, 64)        18496     \n",
            "                                                                 \n",
            " batch_normalization_15 (Bat  (None, 13, 13, 64)       256       \n",
            " chNormalization)                                                \n",
            "                                                                 \n",
            " max_pooling2d_21 (MaxPoolin  (None, 6, 6, 64)         0         \n",
            " g2D)                                                            \n",
            "                                                                 \n",
            " dropout_22 (Dropout)        (None, 6, 6, 64)          0         \n",
            "                                                                 \n",
            " conv2d_32 (Conv2D)          (None, 4, 4, 128)         73856     \n",
            "                                                                 \n",
            " conv2d_33 (Conv2D)          (None, 2, 2, 128)         147584    \n",
            "                                                                 \n",
            " batch_normalization_16 (Bat  (None, 2, 2, 128)        512       \n",
            " chNormalization)                                                \n",
            "                                                                 \n",
            " max_pooling2d_22 (MaxPoolin  (None, 1, 1, 128)        0         \n",
            " g2D)                                                            \n",
            "                                                                 \n",
            " dropout_23 (Dropout)        (None, 1, 1, 128)         0         \n",
            "                                                                 \n",
            " flatten_10 (Flatten)        (None, 128)               0         \n",
            "                                                                 \n",
            " dense_16 (Dense)            (None, 10)                1290      \n",
            "                                                                 \n",
            "=================================================================\n",
            "Total params: 243,018\n",
            "Trainable params: 242,570\n",
            "Non-trainable params: 448\n",
            "_________________________________________________________________\n"
          ]
        }
      ]
    },
    {
      "cell_type": "code",
      "source": [
        "from keras.backend import learning_phase\n",
        "from tensorflow.keras.optimizers import SGD\n",
        "sgd = SGD(learning_rate=0.01, decay=1e-6, momentum=0.9, nesterov=True)\n",
        "c1model.compile(optimizer=sgd, loss = 'categorical_crossentropy', metrics=['accuracy'])"
      ],
      "metadata": {
        "id": "aUSFq6WLUrjb"
      },
      "execution_count": 89,
      "outputs": []
    },
    {
      "cell_type": "code",
      "source": [
        "c1history = c1model.fit(ctrain_images, ctrain_labels, epochs = 8, batch_size=128, validation_data=(ctest_images, ctest_labels))"
      ],
      "metadata": {
        "colab": {
          "base_uri": "https://localhost:8080/"
        },
        "id": "xveEOvrwtwuK",
        "outputId": "ac146b6f-d3b5-4da9-8b4a-37fe63de75c1"
      },
      "execution_count": 91,
      "outputs": [
        {
          "output_type": "stream",
          "name": "stdout",
          "text": [
            "Epoch 1/8\n",
            "391/391 [==============================] - 124s 317ms/step - loss: 1.5187 - accuracy: 0.4568 - val_loss: 1.5496 - val_accuracy: 0.4239\n",
            "Epoch 2/8\n",
            "391/391 [==============================] - 118s 302ms/step - loss: 1.1811 - accuracy: 0.5865 - val_loss: 1.1557 - val_accuracy: 0.5855\n",
            "Epoch 3/8\n",
            "391/391 [==============================] - 118s 303ms/step - loss: 1.0441 - accuracy: 0.6326 - val_loss: 1.0939 - val_accuracy: 0.6207\n",
            "Epoch 4/8\n",
            "391/391 [==============================] - 116s 297ms/step - loss: 0.9473 - accuracy: 0.6663 - val_loss: 1.0007 - val_accuracy: 0.6510\n",
            "Epoch 5/8\n",
            "391/391 [==============================] - 119s 305ms/step - loss: 0.8856 - accuracy: 0.6917 - val_loss: 0.9062 - val_accuracy: 0.6833\n",
            "Epoch 6/8\n",
            "391/391 [==============================] - 114s 291ms/step - loss: 0.8276 - accuracy: 0.7100 - val_loss: 0.8856 - val_accuracy: 0.6887\n",
            "Epoch 7/8\n",
            "391/391 [==============================] - 116s 296ms/step - loss: 0.7820 - accuracy: 0.7237 - val_loss: 0.8091 - val_accuracy: 0.7201\n",
            "Epoch 8/8\n",
            "391/391 [==============================] - 114s 291ms/step - loss: 0.7460 - accuracy: 0.7395 - val_loss: 0.7963 - val_accuracy: 0.7278\n"
          ]
        }
      ]
    },
    {
      "cell_type": "code",
      "source": [
        "predc1 = c1model.evaluate(ctest_images, ctest_labels)\n",
        "print(\"Accuracy is \", predc1[1])"
      ],
      "metadata": {
        "colab": {
          "base_uri": "https://localhost:8080/"
        },
        "id": "SbaKyvo3t0pj",
        "outputId": "b1bfba70-1306-4e5e-f084-75986e5de51d"
      },
      "execution_count": 92,
      "outputs": [
        {
          "output_type": "stream",
          "name": "stdout",
          "text": [
            "313/313 [==============================] - 6s 18ms/step - loss: 0.7963 - accuracy: 0.7278\n",
            "Accuracy is  0.7278000116348267\n"
          ]
        }
      ]
    },
    {
      "cell_type": "code",
      "source": [
        "c1model.save(\"c1model\")"
      ],
      "metadata": {
        "colab": {
          "base_uri": "https://localhost:8080/"
        },
        "id": "XqqxiE0xpHt0",
        "outputId": "df853721-9a67-4961-8cc6-328f5448dfc9"
      },
      "execution_count": 93,
      "outputs": [
        {
          "output_type": "stream",
          "name": "stdout",
          "text": [
            "INFO:tensorflow:Assets written to: c1model/assets\n"
          ]
        }
      ]
    },
    {
      "cell_type": "code",
      "source": [
        "#changed learning rate and number of epochs\n",
        "c2model = models.Sequential()\n",
        "#mmodel.Input(shape=(28, 28, 1))\n",
        "c2model.add(layers.Conv2D(32, kernel_size=(3, 3), activation=\"relu\", input_shape=(32, 32, 3)))\n",
        "c2model.add(layers.BatchNormalization())\n",
        "c2model.add(layers.MaxPool2D(pool_size = (2,2)))\n",
        "c2model.add(layers.Dropout(0.2))\n",
        "c2model.add(layers.Conv2D(64, kernel_size=(3, 3), activation=\"relu\"))\n",
        "c2model.add(layers.BatchNormalization())\n",
        "c2model.add(layers.MaxPool2D(pool_size = (2,2)))\n",
        "c2model.add(layers.Dropout(0.2))\n",
        "c2model.add(layers.Conv2D(128, kernel_size=(3, 3), activation=\"relu\"))\n",
        "#cmodel.add(layers.BatchNormalization())\n",
        "#cmodel.add(layers.MaxPool2D(pool_size = (2,2)))\n",
        "#cmodel.add(layers.Dropout(0.2))\n",
        "c2model.add(layers.Conv2D(128, kernel_size=(3, 3), activation=\"relu\"))\n",
        "c2model.add(layers.BatchNormalization())\n",
        "c2model.add(layers.MaxPool2D(pool_size = (2,2)))\n",
        "c2model.add(layers.Dropout(0.2))\n",
        "#c2model.add(layers.concatenate([layer1, layer2, layer3], axis = 3))\n",
        "c2model.add(layers.Flatten())\n",
        "c2model.add(layers.Dense(10, activation=\"softmax\"))\n",
        "c2model.summary()\n"
      ],
      "metadata": {
        "colab": {
          "base_uri": "https://localhost:8080/"
        },
        "id": "iXhAIpn148je",
        "outputId": "be71fb64-94f9-4d2a-963d-23bd65161856"
      },
      "execution_count": 3,
      "outputs": [
        {
          "output_type": "stream",
          "name": "stdout",
          "text": [
            "Model: \"sequential\"\n",
            "_________________________________________________________________\n",
            " Layer (type)                Output Shape              Param #   \n",
            "=================================================================\n",
            " conv2d (Conv2D)             (None, 30, 30, 32)        896       \n",
            "                                                                 \n",
            " batch_normalization (BatchN  (None, 30, 30, 32)       128       \n",
            " ormalization)                                                   \n",
            "                                                                 \n",
            " max_pooling2d (MaxPooling2D  (None, 15, 15, 32)       0         \n",
            " )                                                               \n",
            "                                                                 \n",
            " dropout (Dropout)           (None, 15, 15, 32)        0         \n",
            "                                                                 \n",
            " conv2d_1 (Conv2D)           (None, 13, 13, 64)        18496     \n",
            "                                                                 \n",
            " batch_normalization_1 (Batc  (None, 13, 13, 64)       256       \n",
            " hNormalization)                                                 \n",
            "                                                                 \n",
            " max_pooling2d_1 (MaxPooling  (None, 6, 6, 64)         0         \n",
            " 2D)                                                             \n",
            "                                                                 \n",
            " dropout_1 (Dropout)         (None, 6, 6, 64)          0         \n",
            "                                                                 \n",
            " conv2d_2 (Conv2D)           (None, 4, 4, 128)         73856     \n",
            "                                                                 \n",
            " conv2d_3 (Conv2D)           (None, 2, 2, 128)         147584    \n",
            "                                                                 \n",
            " batch_normalization_2 (Batc  (None, 2, 2, 128)        512       \n",
            " hNormalization)                                                 \n",
            "                                                                 \n",
            " max_pooling2d_2 (MaxPooling  (None, 1, 1, 128)        0         \n",
            " 2D)                                                             \n",
            "                                                                 \n",
            " dropout_2 (Dropout)         (None, 1, 1, 128)         0         \n",
            "                                                                 \n",
            " flatten (Flatten)           (None, 128)               0         \n",
            "                                                                 \n",
            " dense (Dense)               (None, 10)                1290      \n",
            "                                                                 \n",
            "=================================================================\n",
            "Total params: 243,018\n",
            "Trainable params: 242,570\n",
            "Non-trainable params: 448\n",
            "_________________________________________________________________\n"
          ]
        }
      ]
    },
    {
      "cell_type": "code",
      "source": [
        "from keras.backend import learning_phase\n",
        "from tensorflow.keras.optimizers import Adam\n",
        "ad = Adam(learning_rate=0.1)\n",
        "c2model.compile(optimizer=ad, loss = 'categorical_crossentropy', metrics=['accuracy'])"
      ],
      "metadata": {
        "id": "UhLhZvVHAt-q"
      },
      "execution_count": 20,
      "outputs": []
    },
    {
      "cell_type": "code",
      "source": [
        "c2history = c2model.fit(ctrain_images, ctrain_labels, epochs = 100, batch_size=128, validation_data=(ctest_images, ctest_labels))"
      ],
      "metadata": {
        "colab": {
          "base_uri": "https://localhost:8080/",
          "height": 1000
        },
        "id": "rrP6_wsOAMOh",
        "outputId": "be7ec358-2c8d-49ff-8569-b9f2f8ab11fb"
      },
      "execution_count": 23,
      "outputs": [
        {
          "output_type": "stream",
          "name": "stdout",
          "text": [
            "Epoch 1/100\n",
            "391/391 [==============================] - 184s 471ms/step - loss: 1.7156 - accuracy: 0.4097 - val_loss: 1.7724 - val_accuracy: 0.4334\n",
            "Epoch 2/100\n",
            "391/391 [==============================] - 181s 462ms/step - loss: 1.7077 - accuracy: 0.4365 - val_loss: 2.0112 - val_accuracy: 0.3683\n",
            "Epoch 3/100\n",
            "391/391 [==============================] - 180s 460ms/step - loss: 1.6985 - accuracy: 0.4568 - val_loss: 2.3847 - val_accuracy: 0.4601\n",
            "Epoch 4/100\n",
            "391/391 [==============================] - 189s 483ms/step - loss: 1.6445 - accuracy: 0.4938 - val_loss: 2.1060 - val_accuracy: 0.4636\n",
            "Epoch 5/100\n",
            "391/391 [==============================] - 180s 460ms/step - loss: 1.6774 - accuracy: 0.5072 - val_loss: 1.5159 - val_accuracy: 0.5448\n",
            "Epoch 6/100\n",
            "391/391 [==============================] - 194s 495ms/step - loss: 1.4151 - accuracy: 0.5516 - val_loss: 7.7901 - val_accuracy: 0.5588\n",
            "Epoch 7/100\n",
            "391/391 [==============================] - 181s 464ms/step - loss: 1.4834 - accuracy: 0.5509 - val_loss: 1.2989 - val_accuracy: 0.5706\n",
            "Epoch 8/100\n",
            "391/391 [==============================] - 180s 461ms/step - loss: 1.4369 - accuracy: 0.5632 - val_loss: 1.3287 - val_accuracy: 0.5885\n",
            "Epoch 9/100\n",
            "391/391 [==============================] - 180s 462ms/step - loss: 1.8120 - accuracy: 0.5332 - val_loss: 2.7580 - val_accuracy: 0.4783\n",
            "Epoch 10/100\n",
            "391/391 [==============================] - 180s 461ms/step - loss: 1.3707 - accuracy: 0.5756 - val_loss: 1.5860 - val_accuracy: 0.5444\n",
            "Epoch 11/100\n",
            "391/391 [==============================] - 180s 461ms/step - loss: 1.3805 - accuracy: 0.5865 - val_loss: 1.8041 - val_accuracy: 0.4776\n",
            "Epoch 12/100\n",
            "391/391 [==============================] - 198s 506ms/step - loss: 1.4831 - accuracy: 0.5781 - val_loss: 2.7753 - val_accuracy: 0.4490\n",
            "Epoch 13/100\n",
            "391/391 [==============================] - 201s 513ms/step - loss: 1.4323 - accuracy: 0.5896 - val_loss: 1.5395 - val_accuracy: 0.5972\n",
            "Epoch 14/100\n",
            "391/391 [==============================] - 182s 465ms/step - loss: 1.4966 - accuracy: 0.5867 - val_loss: 1.6142 - val_accuracy: 0.5831\n",
            "Epoch 15/100\n",
            "391/391 [==============================] - 181s 463ms/step - loss: 1.2940 - accuracy: 0.6113 - val_loss: 1.5286 - val_accuracy: 0.5262\n",
            "Epoch 16/100\n",
            "391/391 [==============================] - 203s 519ms/step - loss: 1.2748 - accuracy: 0.6150 - val_loss: 1.9155 - val_accuracy: 0.4906\n",
            "Epoch 17/100\n",
            "391/391 [==============================] - 215s 549ms/step - loss: 1.2398 - accuracy: 0.6235 - val_loss: 3.9514 - val_accuracy: 0.3626\n",
            "Epoch 18/100\n",
            "391/391 [==============================] - 196s 500ms/step - loss: 1.3048 - accuracy: 0.6170 - val_loss: 2.5296 - val_accuracy: 0.4603\n",
            "Epoch 19/100\n",
            "391/391 [==============================] - 200s 513ms/step - loss: 1.1970 - accuracy: 0.6316 - val_loss: 4.0485 - val_accuracy: 0.3490\n",
            "Epoch 20/100\n",
            "391/391 [==============================] - 182s 466ms/step - loss: 1.1468 - accuracy: 0.6438 - val_loss: 2.0343 - val_accuracy: 0.5341\n",
            "Epoch 21/100\n",
            "391/391 [==============================] - 180s 460ms/step - loss: 1.2909 - accuracy: 0.6268 - val_loss: 3.3682 - val_accuracy: 0.3683\n",
            "Epoch 22/100\n",
            "391/391 [==============================] - 180s 460ms/step - loss: 1.2364 - accuracy: 0.6363 - val_loss: 2.4997 - val_accuracy: 0.4117\n",
            "Epoch 23/100\n",
            "391/391 [==============================] - 180s 460ms/step - loss: 1.2110 - accuracy: 0.6464 - val_loss: 3.1582 - val_accuracy: 0.4256\n",
            "Epoch 24/100\n",
            "391/391 [==============================] - 180s 461ms/step - loss: 1.3731 - accuracy: 0.6339 - val_loss: 5.3084 - val_accuracy: 0.2888\n",
            "Epoch 25/100\n",
            "391/391 [==============================] - 180s 459ms/step - loss: 1.0732 - accuracy: 0.6658 - val_loss: 3.0291 - val_accuracy: 0.4428\n",
            "Epoch 26/100\n",
            "391/391 [==============================] - 179s 458ms/step - loss: 1.1892 - accuracy: 0.6494 - val_loss: 2.3255 - val_accuracy: 0.5186\n",
            "Epoch 27/100\n",
            "391/391 [==============================] - 179s 457ms/step - loss: 1.1436 - accuracy: 0.6580 - val_loss: 3.1034 - val_accuracy: 0.4563\n",
            "Epoch 28/100\n",
            "391/391 [==============================] - 179s 458ms/step - loss: 1.1616 - accuracy: 0.6617 - val_loss: 6.9446 - val_accuracy: 0.2254\n",
            "Epoch 29/100\n",
            "391/391 [==============================] - 178s 456ms/step - loss: 1.1908 - accuracy: 0.6556 - val_loss: 3.4950 - val_accuracy: 0.4455\n",
            "Epoch 30/100\n",
            "391/391 [==============================] - 181s 462ms/step - loss: 1.1910 - accuracy: 0.6584 - val_loss: 2.0050 - val_accuracy: 0.5416\n",
            "Epoch 31/100\n",
            "391/391 [==============================] - 179s 458ms/step - loss: 1.1054 - accuracy: 0.6687 - val_loss: 3.5263 - val_accuracy: 0.4191\n",
            "Epoch 32/100\n",
            "391/391 [==============================] - 179s 459ms/step - loss: 1.1185 - accuracy: 0.6680 - val_loss: 18.6506 - val_accuracy: 0.1597\n",
            "Epoch 33/100\n",
            "391/391 [==============================] - 183s 468ms/step - loss: 1.6305 - accuracy: 0.6294 - val_loss: 3.5084 - val_accuracy: 0.4781\n",
            "Epoch 34/100\n",
            "391/391 [==============================] - 181s 462ms/step - loss: 1.0535 - accuracy: 0.6808 - val_loss: 3.0810 - val_accuracy: 0.4045\n",
            "Epoch 35/100\n",
            "385/391 [============================>.] - ETA: 2s - loss: 1.0744 - accuracy: 0.6801"
          ]
        },
        {
          "output_type": "error",
          "ename": "KeyboardInterrupt",
          "evalue": "ignored",
          "traceback": [
            "\u001b[0;31m---------------------------------------------------------------------------\u001b[0m",
            "\u001b[0;31mKeyboardInterrupt\u001b[0m                         Traceback (most recent call last)",
            "\u001b[0;32m<ipython-input-23-7042b3e7eb47>\u001b[0m in \u001b[0;36m<module>\u001b[0;34m()\u001b[0m\n\u001b[0;32m----> 1\u001b[0;31m \u001b[0mc2history\u001b[0m \u001b[0;34m=\u001b[0m \u001b[0mc2model\u001b[0m\u001b[0;34m.\u001b[0m\u001b[0mfit\u001b[0m\u001b[0;34m(\u001b[0m\u001b[0mctrain_images\u001b[0m\u001b[0;34m,\u001b[0m \u001b[0mctrain_labels\u001b[0m\u001b[0;34m,\u001b[0m \u001b[0mepochs\u001b[0m \u001b[0;34m=\u001b[0m \u001b[0;36m100\u001b[0m\u001b[0;34m,\u001b[0m \u001b[0mbatch_size\u001b[0m\u001b[0;34m=\u001b[0m\u001b[0;36m128\u001b[0m\u001b[0;34m,\u001b[0m \u001b[0mvalidation_data\u001b[0m\u001b[0;34m=\u001b[0m\u001b[0;34m(\u001b[0m\u001b[0mctest_images\u001b[0m\u001b[0;34m,\u001b[0m \u001b[0mctest_labels\u001b[0m\u001b[0;34m)\u001b[0m\u001b[0;34m)\u001b[0m\u001b[0;34m\u001b[0m\u001b[0;34m\u001b[0m\u001b[0m\n\u001b[0m",
            "\u001b[0;32m/usr/local/lib/python3.7/dist-packages/keras/utils/traceback_utils.py\u001b[0m in \u001b[0;36merror_handler\u001b[0;34m(*args, **kwargs)\u001b[0m\n\u001b[1;32m     62\u001b[0m     \u001b[0mfiltered_tb\u001b[0m \u001b[0;34m=\u001b[0m \u001b[0;32mNone\u001b[0m\u001b[0;34m\u001b[0m\u001b[0;34m\u001b[0m\u001b[0m\n\u001b[1;32m     63\u001b[0m     \u001b[0;32mtry\u001b[0m\u001b[0;34m:\u001b[0m\u001b[0;34m\u001b[0m\u001b[0;34m\u001b[0m\u001b[0m\n\u001b[0;32m---> 64\u001b[0;31m       \u001b[0;32mreturn\u001b[0m \u001b[0mfn\u001b[0m\u001b[0;34m(\u001b[0m\u001b[0;34m*\u001b[0m\u001b[0margs\u001b[0m\u001b[0;34m,\u001b[0m \u001b[0;34m**\u001b[0m\u001b[0mkwargs\u001b[0m\u001b[0;34m)\u001b[0m\u001b[0;34m\u001b[0m\u001b[0;34m\u001b[0m\u001b[0m\n\u001b[0m\u001b[1;32m     65\u001b[0m     \u001b[0;32mexcept\u001b[0m \u001b[0mException\u001b[0m \u001b[0;32mas\u001b[0m \u001b[0me\u001b[0m\u001b[0;34m:\u001b[0m  \u001b[0;31m# pylint: disable=broad-except\u001b[0m\u001b[0;34m\u001b[0m\u001b[0;34m\u001b[0m\u001b[0m\n\u001b[1;32m     66\u001b[0m       \u001b[0mfiltered_tb\u001b[0m \u001b[0;34m=\u001b[0m \u001b[0m_process_traceback_frames\u001b[0m\u001b[0;34m(\u001b[0m\u001b[0me\u001b[0m\u001b[0;34m.\u001b[0m\u001b[0m__traceback__\u001b[0m\u001b[0;34m)\u001b[0m\u001b[0;34m\u001b[0m\u001b[0;34m\u001b[0m\u001b[0m\n",
            "\u001b[0;32m/usr/local/lib/python3.7/dist-packages/keras/engine/training.py\u001b[0m in \u001b[0;36mfit\u001b[0;34m(self, x, y, batch_size, epochs, verbose, callbacks, validation_split, validation_data, shuffle, class_weight, sample_weight, initial_epoch, steps_per_epoch, validation_steps, validation_batch_size, validation_freq, max_queue_size, workers, use_multiprocessing)\u001b[0m\n\u001b[1;32m   1382\u001b[0m                 _r=1):\n\u001b[1;32m   1383\u001b[0m               \u001b[0mcallbacks\u001b[0m\u001b[0;34m.\u001b[0m\u001b[0mon_train_batch_begin\u001b[0m\u001b[0;34m(\u001b[0m\u001b[0mstep\u001b[0m\u001b[0;34m)\u001b[0m\u001b[0;34m\u001b[0m\u001b[0;34m\u001b[0m\u001b[0m\n\u001b[0;32m-> 1384\u001b[0;31m               \u001b[0mtmp_logs\u001b[0m \u001b[0;34m=\u001b[0m \u001b[0mself\u001b[0m\u001b[0;34m.\u001b[0m\u001b[0mtrain_function\u001b[0m\u001b[0;34m(\u001b[0m\u001b[0miterator\u001b[0m\u001b[0;34m)\u001b[0m\u001b[0;34m\u001b[0m\u001b[0;34m\u001b[0m\u001b[0m\n\u001b[0m\u001b[1;32m   1385\u001b[0m               \u001b[0;32mif\u001b[0m \u001b[0mdata_handler\u001b[0m\u001b[0;34m.\u001b[0m\u001b[0mshould_sync\u001b[0m\u001b[0;34m:\u001b[0m\u001b[0;34m\u001b[0m\u001b[0;34m\u001b[0m\u001b[0m\n\u001b[1;32m   1386\u001b[0m                 \u001b[0mcontext\u001b[0m\u001b[0;34m.\u001b[0m\u001b[0masync_wait\u001b[0m\u001b[0;34m(\u001b[0m\u001b[0;34m)\u001b[0m\u001b[0;34m\u001b[0m\u001b[0;34m\u001b[0m\u001b[0m\n",
            "\u001b[0;32m/usr/local/lib/python3.7/dist-packages/tensorflow/python/util/traceback_utils.py\u001b[0m in \u001b[0;36merror_handler\u001b[0;34m(*args, **kwargs)\u001b[0m\n\u001b[1;32m    148\u001b[0m     \u001b[0mfiltered_tb\u001b[0m \u001b[0;34m=\u001b[0m \u001b[0;32mNone\u001b[0m\u001b[0;34m\u001b[0m\u001b[0;34m\u001b[0m\u001b[0m\n\u001b[1;32m    149\u001b[0m     \u001b[0;32mtry\u001b[0m\u001b[0;34m:\u001b[0m\u001b[0;34m\u001b[0m\u001b[0;34m\u001b[0m\u001b[0m\n\u001b[0;32m--> 150\u001b[0;31m       \u001b[0;32mreturn\u001b[0m \u001b[0mfn\u001b[0m\u001b[0;34m(\u001b[0m\u001b[0;34m*\u001b[0m\u001b[0margs\u001b[0m\u001b[0;34m,\u001b[0m \u001b[0;34m**\u001b[0m\u001b[0mkwargs\u001b[0m\u001b[0;34m)\u001b[0m\u001b[0;34m\u001b[0m\u001b[0;34m\u001b[0m\u001b[0m\n\u001b[0m\u001b[1;32m    151\u001b[0m     \u001b[0;32mexcept\u001b[0m \u001b[0mException\u001b[0m \u001b[0;32mas\u001b[0m \u001b[0me\u001b[0m\u001b[0;34m:\u001b[0m\u001b[0;34m\u001b[0m\u001b[0;34m\u001b[0m\u001b[0m\n\u001b[1;32m    152\u001b[0m       \u001b[0mfiltered_tb\u001b[0m \u001b[0;34m=\u001b[0m \u001b[0m_process_traceback_frames\u001b[0m\u001b[0;34m(\u001b[0m\u001b[0me\u001b[0m\u001b[0;34m.\u001b[0m\u001b[0m__traceback__\u001b[0m\u001b[0;34m)\u001b[0m\u001b[0;34m\u001b[0m\u001b[0;34m\u001b[0m\u001b[0m\n",
            "\u001b[0;32m/usr/local/lib/python3.7/dist-packages/tensorflow/python/eager/def_function.py\u001b[0m in \u001b[0;36m__call__\u001b[0;34m(self, *args, **kwds)\u001b[0m\n\u001b[1;32m    913\u001b[0m \u001b[0;34m\u001b[0m\u001b[0m\n\u001b[1;32m    914\u001b[0m       \u001b[0;32mwith\u001b[0m \u001b[0mOptionalXlaContext\u001b[0m\u001b[0;34m(\u001b[0m\u001b[0mself\u001b[0m\u001b[0;34m.\u001b[0m\u001b[0m_jit_compile\u001b[0m\u001b[0;34m)\u001b[0m\u001b[0;34m:\u001b[0m\u001b[0;34m\u001b[0m\u001b[0;34m\u001b[0m\u001b[0m\n\u001b[0;32m--> 915\u001b[0;31m         \u001b[0mresult\u001b[0m \u001b[0;34m=\u001b[0m \u001b[0mself\u001b[0m\u001b[0;34m.\u001b[0m\u001b[0m_call\u001b[0m\u001b[0;34m(\u001b[0m\u001b[0;34m*\u001b[0m\u001b[0margs\u001b[0m\u001b[0;34m,\u001b[0m \u001b[0;34m**\u001b[0m\u001b[0mkwds\u001b[0m\u001b[0;34m)\u001b[0m\u001b[0;34m\u001b[0m\u001b[0;34m\u001b[0m\u001b[0m\n\u001b[0m\u001b[1;32m    916\u001b[0m \u001b[0;34m\u001b[0m\u001b[0m\n\u001b[1;32m    917\u001b[0m       \u001b[0mnew_tracing_count\u001b[0m \u001b[0;34m=\u001b[0m \u001b[0mself\u001b[0m\u001b[0;34m.\u001b[0m\u001b[0mexperimental_get_tracing_count\u001b[0m\u001b[0;34m(\u001b[0m\u001b[0;34m)\u001b[0m\u001b[0;34m\u001b[0m\u001b[0;34m\u001b[0m\u001b[0m\n",
            "\u001b[0;32m/usr/local/lib/python3.7/dist-packages/tensorflow/python/eager/def_function.py\u001b[0m in \u001b[0;36m_call\u001b[0;34m(self, *args, **kwds)\u001b[0m\n\u001b[1;32m    945\u001b[0m       \u001b[0;31m# In this case we have created variables on the first call, so we run the\u001b[0m\u001b[0;34m\u001b[0m\u001b[0;34m\u001b[0m\u001b[0;34m\u001b[0m\u001b[0m\n\u001b[1;32m    946\u001b[0m       \u001b[0;31m# defunned version which is guaranteed to never create variables.\u001b[0m\u001b[0;34m\u001b[0m\u001b[0;34m\u001b[0m\u001b[0;34m\u001b[0m\u001b[0m\n\u001b[0;32m--> 947\u001b[0;31m       \u001b[0;32mreturn\u001b[0m \u001b[0mself\u001b[0m\u001b[0;34m.\u001b[0m\u001b[0m_stateless_fn\u001b[0m\u001b[0;34m(\u001b[0m\u001b[0;34m*\u001b[0m\u001b[0margs\u001b[0m\u001b[0;34m,\u001b[0m \u001b[0;34m**\u001b[0m\u001b[0mkwds\u001b[0m\u001b[0;34m)\u001b[0m  \u001b[0;31m# pylint: disable=not-callable\u001b[0m\u001b[0;34m\u001b[0m\u001b[0;34m\u001b[0m\u001b[0m\n\u001b[0m\u001b[1;32m    948\u001b[0m     \u001b[0;32melif\u001b[0m \u001b[0mself\u001b[0m\u001b[0;34m.\u001b[0m\u001b[0m_stateful_fn\u001b[0m \u001b[0;32mis\u001b[0m \u001b[0;32mnot\u001b[0m \u001b[0;32mNone\u001b[0m\u001b[0;34m:\u001b[0m\u001b[0;34m\u001b[0m\u001b[0;34m\u001b[0m\u001b[0m\n\u001b[1;32m    949\u001b[0m       \u001b[0;31m# Release the lock early so that multiple threads can perform the call\u001b[0m\u001b[0;34m\u001b[0m\u001b[0;34m\u001b[0m\u001b[0;34m\u001b[0m\u001b[0m\n",
            "\u001b[0;32m/usr/local/lib/python3.7/dist-packages/tensorflow/python/eager/function.py\u001b[0m in \u001b[0;36m__call__\u001b[0;34m(self, *args, **kwargs)\u001b[0m\n\u001b[1;32m   2955\u001b[0m        filtered_flat_args) = self._maybe_define_function(args, kwargs)\n\u001b[1;32m   2956\u001b[0m     return graph_function._call_flat(\n\u001b[0;32m-> 2957\u001b[0;31m         filtered_flat_args, captured_inputs=graph_function.captured_inputs)  # pylint: disable=protected-access\n\u001b[0m\u001b[1;32m   2958\u001b[0m \u001b[0;34m\u001b[0m\u001b[0m\n\u001b[1;32m   2959\u001b[0m   \u001b[0;34m@\u001b[0m\u001b[0mproperty\u001b[0m\u001b[0;34m\u001b[0m\u001b[0;34m\u001b[0m\u001b[0m\n",
            "\u001b[0;32m/usr/local/lib/python3.7/dist-packages/tensorflow/python/eager/function.py\u001b[0m in \u001b[0;36m_call_flat\u001b[0;34m(self, args, captured_inputs, cancellation_manager)\u001b[0m\n\u001b[1;32m   1852\u001b[0m       \u001b[0;31m# No tape is watching; skip to running the function.\u001b[0m\u001b[0;34m\u001b[0m\u001b[0;34m\u001b[0m\u001b[0;34m\u001b[0m\u001b[0m\n\u001b[1;32m   1853\u001b[0m       return self._build_call_outputs(self._inference_function.call(\n\u001b[0;32m-> 1854\u001b[0;31m           ctx, args, cancellation_manager=cancellation_manager))\n\u001b[0m\u001b[1;32m   1855\u001b[0m     forward_backward = self._select_forward_and_backward_functions(\n\u001b[1;32m   1856\u001b[0m         \u001b[0margs\u001b[0m\u001b[0;34m,\u001b[0m\u001b[0;34m\u001b[0m\u001b[0;34m\u001b[0m\u001b[0m\n",
            "\u001b[0;32m/usr/local/lib/python3.7/dist-packages/tensorflow/python/eager/function.py\u001b[0m in \u001b[0;36mcall\u001b[0;34m(self, ctx, args, cancellation_manager)\u001b[0m\n\u001b[1;32m    502\u001b[0m               \u001b[0minputs\u001b[0m\u001b[0;34m=\u001b[0m\u001b[0margs\u001b[0m\u001b[0;34m,\u001b[0m\u001b[0;34m\u001b[0m\u001b[0;34m\u001b[0m\u001b[0m\n\u001b[1;32m    503\u001b[0m               \u001b[0mattrs\u001b[0m\u001b[0;34m=\u001b[0m\u001b[0mattrs\u001b[0m\u001b[0;34m,\u001b[0m\u001b[0;34m\u001b[0m\u001b[0;34m\u001b[0m\u001b[0m\n\u001b[0;32m--> 504\u001b[0;31m               ctx=ctx)\n\u001b[0m\u001b[1;32m    505\u001b[0m         \u001b[0;32melse\u001b[0m\u001b[0;34m:\u001b[0m\u001b[0;34m\u001b[0m\u001b[0;34m\u001b[0m\u001b[0m\n\u001b[1;32m    506\u001b[0m           outputs = execute.execute_with_cancellation(\n",
            "\u001b[0;32m/usr/local/lib/python3.7/dist-packages/tensorflow/python/eager/execute.py\u001b[0m in \u001b[0;36mquick_execute\u001b[0;34m(op_name, num_outputs, inputs, attrs, ctx, name)\u001b[0m\n\u001b[1;32m     53\u001b[0m     \u001b[0mctx\u001b[0m\u001b[0;34m.\u001b[0m\u001b[0mensure_initialized\u001b[0m\u001b[0;34m(\u001b[0m\u001b[0;34m)\u001b[0m\u001b[0;34m\u001b[0m\u001b[0;34m\u001b[0m\u001b[0m\n\u001b[1;32m     54\u001b[0m     tensors = pywrap_tfe.TFE_Py_Execute(ctx._handle, device_name, op_name,\n\u001b[0;32m---> 55\u001b[0;31m                                         inputs, attrs, num_outputs)\n\u001b[0m\u001b[1;32m     56\u001b[0m   \u001b[0;32mexcept\u001b[0m \u001b[0mcore\u001b[0m\u001b[0;34m.\u001b[0m\u001b[0m_NotOkStatusException\u001b[0m \u001b[0;32mas\u001b[0m \u001b[0me\u001b[0m\u001b[0;34m:\u001b[0m\u001b[0;34m\u001b[0m\u001b[0;34m\u001b[0m\u001b[0m\n\u001b[1;32m     57\u001b[0m     \u001b[0;32mif\u001b[0m \u001b[0mname\u001b[0m \u001b[0;32mis\u001b[0m \u001b[0;32mnot\u001b[0m \u001b[0;32mNone\u001b[0m\u001b[0;34m:\u001b[0m\u001b[0;34m\u001b[0m\u001b[0;34m\u001b[0m\u001b[0m\n",
            "\u001b[0;31mKeyboardInterrupt\u001b[0m: "
          ]
        }
      ]
    },
    {
      "cell_type": "markdown",
      "source": [
        "Inception block"
      ],
      "metadata": {
        "id": "XsoOBdS1TNcE"
      }
    },
    {
      "cell_type": "code",
      "source": [
        "#Inception model\n",
        "\n",
        "from keras.engine.training import Model\n",
        "from keras.layers.normalization.layer_normalization import LayerNormalization\n",
        "from keras.layers import Input\n",
        "#c2model = models.Sequential()\n",
        "ip = Input(shape=(32, 32, 3))\n",
        "layer1 = layers.Conv2D(32, kernel_size=(1, 1), activation=\"relu\", padding = 'same')(ip) #input_shape=(32, 32, 3))\n",
        "layer1 = layers.Conv2D(32, kernel_size=(3, 3), activation=\"relu\", padding = 'same')(layer1)\n",
        "layer1 = LayerNormalization()(layer1)\n",
        "layer2 = layers.Conv2D(32, kernel_size=(1, 1), activation=\"relu\", padding = 'same')(ip) #, input_shape=(32, 32, 3))\n",
        "layer2 = layers.Conv2D(32, kernel_size=(5, 5), activation=\"relu\", padding = 'same')(layer2)\n",
        "layer2 = LayerNormalization()(layer2)\n",
        "layer3 = layers.MaxPool2D((3,3), strides = (1, 1), padding = 'same')(ip) #input_shape=(32, 32, 3))\n",
        "layer3 = layers.Conv2D(32, kernel_size=(1, 1), activation=\"relu\", padding = 'same')(layer3)\n",
        "incept = layers.concatenate([layer1, layer2, layer3], axis = 3)\n",
        "flat = layers.Flatten()(incept)\n",
        "output = layers.Dense(10, activation=\"softmax\")(flat)\n",
        "c3model = Model([ip], output)\n",
        "\n",
        "#c2model.add(layers.Conv2D(32, kernel_size=(3, 3), activation=\"relu\", input_shape=(32, 32, 3)))\n"
      ],
      "metadata": {
        "id": "nMW00Sr7Plci"
      },
      "execution_count": 94,
      "outputs": []
    },
    {
      "cell_type": "code",
      "source": [
        "from keras.backend import learning_phase\n",
        "from tensorflow.keras.optimizers import Adam\n",
        "ad = Adam(learning_rate=0.0001)\n",
        "c3model.compile(optimizer=ad, loss = 'categorical_crossentropy', metrics=['accuracy'])"
      ],
      "metadata": {
        "id": "LzXsH2U1oOU_"
      },
      "execution_count": 95,
      "outputs": []
    },
    {
      "cell_type": "code",
      "source": [
        "ctrain_images.shape"
      ],
      "metadata": {
        "colab": {
          "base_uri": "https://localhost:8080/"
        },
        "id": "i_MUSOsoqblQ",
        "outputId": "647471fa-1c7f-4f7d-e9ad-ec602f998634"
      },
      "execution_count": 96,
      "outputs": [
        {
          "output_type": "execute_result",
          "data": {
            "text/plain": [
              "(50000, 32, 32, 3)"
            ]
          },
          "metadata": {},
          "execution_count": 96
        }
      ]
    },
    {
      "cell_type": "code",
      "source": [
        "c3history = c3model.fit(ctrain_images, ctrain_labels, epochs = 8, batch_size=128, validation_data=(ctest_images, ctest_labels))"
      ],
      "metadata": {
        "colab": {
          "base_uri": "https://localhost:8080/"
        },
        "id": "0Gsy4G5Hp7_6",
        "outputId": "ea4152d9-caf6-454e-d202-5b5b6822d650"
      },
      "execution_count": 59,
      "outputs": [
        {
          "output_type": "stream",
          "name": "stdout",
          "text": [
            "Epoch 1/8\n",
            "391/391 [==============================] - 614s 2s/step - loss: 1.6406 - accuracy: 0.4278 - val_loss: 1.3560 - val_accuracy: 0.5127\n",
            "Epoch 2/8\n",
            "391/391 [==============================] - 606s 2s/step - loss: 1.2288 - accuracy: 0.5646 - val_loss: 1.2142 - val_accuracy: 0.5736\n",
            "Epoch 3/8\n",
            "391/391 [==============================] - 607s 2s/step - loss: 1.0691 - accuracy: 0.6262 - val_loss: 1.1807 - val_accuracy: 0.5851\n",
            "Epoch 4/8\n",
            "391/391 [==============================] - 603s 2s/step - loss: 0.9581 - accuracy: 0.6684 - val_loss: 1.1117 - val_accuracy: 0.6077\n",
            "Epoch 5/8\n",
            "391/391 [==============================] - 602s 2s/step - loss: 0.8682 - accuracy: 0.7011 - val_loss: 1.0783 - val_accuracy: 0.6218\n",
            "Epoch 6/8\n",
            "391/391 [==============================] - 609s 2s/step - loss: 0.7922 - accuracy: 0.7304 - val_loss: 1.0935 - val_accuracy: 0.6201\n",
            "Epoch 7/8\n",
            "391/391 [==============================] - 602s 2s/step - loss: 0.7198 - accuracy: 0.7565 - val_loss: 1.0555 - val_accuracy: 0.6359\n",
            "Epoch 8/8\n",
            "391/391 [==============================] - 601s 2s/step - loss: 0.6583 - accuracy: 0.7801 - val_loss: 1.0483 - val_accuracy: 0.6385\n"
          ]
        }
      ]
    },
    {
      "cell_type": "code",
      "source": [
        "predc3 = c3model.evaluate(ctest_images, ctest_labels)\n",
        "print(\"Accuracy is \", predc3[1])"
      ],
      "metadata": {
        "colab": {
          "base_uri": "https://localhost:8080/"
        },
        "id": "ONQaY3yg6ZCm",
        "outputId": "32aa6479-dea9-4b4b-b35f-312f0b0e62e5"
      },
      "execution_count": 61,
      "outputs": [
        {
          "output_type": "stream",
          "name": "stdout",
          "text": [
            "313/313 [==============================] - 32s 104ms/step - loss: 1.0483 - accuracy: 0.6385\n",
            "Accuracy is  0.6384999752044678\n"
          ]
        }
      ]
    },
    {
      "cell_type": "code",
      "source": [
        "#changed learning rate\n",
        "from keras.backend import learning_phase\n",
        "from tensorflow.keras.optimizers import Adam\n",
        "ad = Adam(learning_rate=0.001)\n",
        "c3model.compile(optimizer=ad, loss = 'categorical_crossentropy', metrics=['accuracy'])"
      ],
      "metadata": {
        "id": "Ao99z3uXWv7P"
      },
      "execution_count": 52,
      "outputs": []
    },
    {
      "cell_type": "code",
      "source": [
        "c3history = c3model.fit(ctrain_images, ctrain_labels, epochs = 7, batch_size=128, validation_data=(ctest_images, ctest_labels))"
      ],
      "metadata": {
        "colab": {
          "base_uri": "https://localhost:8080/"
        },
        "id": "QDOqJhaXWzvw",
        "outputId": "29c7590f-902e-42cc-e0e3-633d0ec6460c"
      },
      "execution_count": 53,
      "outputs": [
        {
          "output_type": "stream",
          "name": "stdout",
          "text": [
            "Epoch 1/7\n",
            "391/391 [==============================] - 599s 2s/step - loss: 5.0827 - accuracy: 0.3257 - val_loss: 1.7119 - val_accuracy: 0.4370\n",
            "Epoch 2/7\n",
            "391/391 [==============================] - 603s 2s/step - loss: 1.4505 - accuracy: 0.5051 - val_loss: 1.3806 - val_accuracy: 0.5280\n",
            "Epoch 3/7\n",
            "391/391 [==============================] - 604s 2s/step - loss: 1.2184 - accuracy: 0.5798 - val_loss: 1.2979 - val_accuracy: 0.5562\n",
            "Epoch 4/7\n",
            "391/391 [==============================] - 598s 2s/step - loss: 1.0003 - accuracy: 0.6527 - val_loss: 1.2361 - val_accuracy: 0.5764\n",
            "Epoch 5/7\n",
            "391/391 [==============================] - 604s 2s/step - loss: 0.8524 - accuracy: 0.7053 - val_loss: 1.1300 - val_accuracy: 0.6130\n",
            "Epoch 6/7\n",
            "391/391 [==============================] - 607s 2s/step - loss: 0.7285 - accuracy: 0.7479 - val_loss: 1.1805 - val_accuracy: 0.6099\n",
            "Epoch 7/7\n",
            "391/391 [==============================] - 604s 2s/step - loss: 0.6316 - accuracy: 0.7817 - val_loss: 1.2261 - val_accuracy: 0.6108\n"
          ]
        }
      ]
    },
    {
      "cell_type": "code",
      "source": [
        "#c3model.save(\"c3model\")"
      ],
      "metadata": {
        "id": "FEVp4PRLp0DV"
      },
      "execution_count": null,
      "outputs": []
    },
    {
      "cell_type": "code",
      "source": [
        "#incpetion model - not good\n",
        "from keras.layers import BatchNormalization\n",
        "from keras.engine.training import Model\n",
        "from keras.layers.normalization.layer_normalization import LayerNormalization\n",
        "from keras.layers import Input\n",
        "#c2model = models.Sequential()\n",
        "ip = Input(shape=(32, 32, 3))\n",
        "layer1 = layers.Conv2D(32, kernel_size=(1, 1), activation=\"relu\", padding = 'same')(ip) #input_shape=(32, 32, 3))\n",
        "layer1 = layers.Conv2D(32, kernel_size=(3, 3), activation=\"relu\", padding = 'same')(layer1)\n",
        "layer1 = LayerNormalization()(layer1)\n",
        "layer2 = layers.Conv2D(32, kernel_size=(1, 1), activation=\"relu\", padding = 'same')(ip) #, input_shape=(32, 32, 3))\n",
        "layer2 = layers.Conv2D(32, kernel_size=(5, 5), activation=\"relu\", padding = 'same')(layer2)\n",
        "layer2 = LayerNormalization()(layer2)\n",
        "layer3 = layers.MaxPool2D((3,3), strides = (1, 1), padding = 'same')(ip) #input_shape=(32, 32, 3))\n",
        "layer3 = layers.Conv2D(32, kernel_size=(1, 1), activation=\"relu\", padding = 'same')(layer3)\n",
        "incept = layers.concatenate([layer1, layer2, layer3], axis = 3)\n",
        "flat = layers.Flatten()(incept)\n",
        "output = layers.Dense(10, activation=\"softmax\")(flat)\n",
        "c5model = Model([ip], output)\n"
      ],
      "metadata": {
        "id": "2nsY3ucPFuNk"
      },
      "execution_count": 17,
      "outputs": []
    },
    {
      "cell_type": "code",
      "source": [
        "from keras.backend import learning_phase\n",
        "from tensorflow.keras.optimizers import Adam\n",
        "ad = Adam(learning_rate=0.001)\n",
        "c5model.compile(optimizer=ad, loss = 'categorical_crossentropy', metrics=['accuracy'])"
      ],
      "metadata": {
        "id": "usE3Vpq_GDgE"
      },
      "execution_count": 23,
      "outputs": []
    },
    {
      "cell_type": "code",
      "source": [
        "c5history = c5model.fit(ctrain_images, ctrain_labels, epochs = 5, batch_size=128, validation_data=(ctest_images, ctest_labels))"
      ],
      "metadata": {
        "colab": {
          "base_uri": "https://localhost:8080/"
        },
        "id": "a4y8qBSzGKhx",
        "outputId": "29dc62c7-90b7-47db-b238-48f14d707169"
      },
      "execution_count": 24,
      "outputs": [
        {
          "output_type": "stream",
          "name": "stdout",
          "text": [
            "Epoch 1/5\n",
            "391/391 [==============================] - 532s 1s/step - loss: 1.5890 - accuracy: 0.4737 - val_loss: 1.5852 - val_accuracy: 0.4726\n",
            "Epoch 2/5\n",
            "391/391 [==============================] - 521s 1s/step - loss: 1.0991 - accuracy: 0.6193 - val_loss: 1.5335 - val_accuracy: 0.4801\n",
            "Epoch 3/5\n",
            "391/391 [==============================] - 515s 1s/step - loss: 0.9207 - accuracy: 0.6782 - val_loss: 1.3883 - val_accuracy: 0.5539\n",
            "Epoch 4/5\n",
            "391/391 [==============================] - 517s 1s/step - loss: 0.7621 - accuracy: 0.7345 - val_loss: 1.4043 - val_accuracy: 0.5550\n",
            "Epoch 5/5\n",
            "391/391 [==============================] - 512s 1s/step - loss: 0.6345 - accuracy: 0.7792 - val_loss: 1.5356 - val_accuracy: 0.5734\n"
          ]
        }
      ]
    },
    {
      "cell_type": "markdown",
      "source": [
        "Residual Block"
      ],
      "metadata": {
        "id": "3FdhgU7RkBFF"
      }
    },
    {
      "cell_type": "code",
      "source": [
        "from keras.engine.training import Model\n",
        "from keras.layers.normalization.layer_normalization import LayerNormalization\n",
        "from keras.layers import Input, add\n",
        "#c2model = models.Sequential()\n",
        "ip = Input(shape=(32, 32, 3))\n",
        "layer1 = layers.Conv2D(32, 3, activation=\"relu\", padding = 'same')(ip) #input_shape=(32, 32, 3))\n",
        "layer1 = layers.Conv2D(64, 3, activation=\"relu\", padding = 'same')(layer1)\n",
        "blayer1 = layers.MaxPooling2D(3)(layer1)\n",
        "blayer1 = LayerNormalization()(blayer1)\n",
        "\n",
        "layer2 = layers.Conv2D(64, 3, activation=\"relu\", padding = 'same')(blayer1) #, input_shape=(32, 32, 3))\n",
        "layer2 = layers.Conv2D(64, 3, activation=\"relu\", padding = 'same')(layer2)\n",
        "blayer2 = layers.add([layer2, blayer1])\n",
        "blayer2 = LayerNormalization()(blayer2)\n",
        "\n",
        "layer3 = layers.Conv2D(64, 3, activation=\"relu\", padding=\"same\")(blayer2)\n",
        "layer3 = layers.Conv2D(64, 3, activation=\"relu\", padding=\"same\")(layer3)\n",
        "blayer3 = layers.add([layer3, blayer2])\n",
        "blayer3 = LayerNormalization()(blayer3)\n",
        "\n",
        "#layer2_add = add([layer2, layer1])\n",
        "layer4 = layers.Conv2D(64, 3, activation=\"relu\", padding = 'same')(blayer3)\n",
        "layer4 = layers.GlobalAveragePooling2D()(layer4) #input_shape=(32, 32, 3))\n",
        "\n",
        "dense = layers.Dense(128, activation=\"relu\")(layer4)\n",
        "dense = layers.Dropout(0.5)(dense)\n",
        "output4 = layers.Dense(10)(dense)\n",
        "#layer3_add = add([layer3, layer2])\n",
        "#incept = layers.concatenate([layer1, layer2, layer3], axis = 3)\n",
        "#flat = layers.Flatten()(layer3_add)\n",
        "#output4 = layers.Dense(10\n",
        "c4model = Model([ip], output4)\n",
        "c4model.summary()"
      ],
      "metadata": {
        "colab": {
          "base_uri": "https://localhost:8080/"
        },
        "id": "2yPGgjPUF7CF",
        "outputId": "4e2ef249-5356-4f02-b785-9becc9cd4e59"
      },
      "execution_count": null,
      "outputs": [
        {
          "output_type": "stream",
          "name": "stdout",
          "text": [
            "Model: \"model_8\"\n",
            "__________________________________________________________________________________________________\n",
            " Layer (type)                   Output Shape         Param #     Connected to                     \n",
            "==================================================================================================\n",
            " input_17 (InputLayer)          [(None, 32, 32, 3)]  0           []                               \n",
            "                                                                                                  \n",
            " conv2d_68 (Conv2D)             (None, 32, 32, 32)   896         ['input_17[0][0]']               \n",
            "                                                                                                  \n",
            " conv2d_69 (Conv2D)             (None, 32, 32, 64)   18496       ['conv2d_68[0][0]']              \n",
            "                                                                                                  \n",
            " max_pooling2d_6 (MaxPooling2D)  (None, 10, 10, 64)  0           ['conv2d_69[0][0]']              \n",
            "                                                                                                  \n",
            " layer_normalization_35 (LayerN  (None, 10, 10, 64)  128         ['max_pooling2d_6[0][0]']        \n",
            " ormalization)                                                                                    \n",
            "                                                                                                  \n",
            " conv2d_70 (Conv2D)             (None, 10, 10, 64)   36928       ['layer_normalization_35[0][0]'] \n",
            "                                                                                                  \n",
            " conv2d_71 (Conv2D)             (None, 10, 10, 64)   36928       ['conv2d_70[0][0]']              \n",
            "                                                                                                  \n",
            " add_20 (Add)                   (None, 10, 10, 64)   0           ['conv2d_71[0][0]',              \n",
            "                                                                  'layer_normalization_35[0][0]'] \n",
            "                                                                                                  \n",
            " layer_normalization_36 (LayerN  (None, 10, 10, 64)  128         ['add_20[0][0]']                 \n",
            " ormalization)                                                                                    \n",
            "                                                                                                  \n",
            " conv2d_72 (Conv2D)             (None, 10, 10, 64)   36928       ['layer_normalization_36[0][0]'] \n",
            "                                                                                                  \n",
            " conv2d_73 (Conv2D)             (None, 10, 10, 64)   36928       ['conv2d_72[0][0]']              \n",
            "                                                                                                  \n",
            " add_21 (Add)                   (None, 10, 10, 64)   0           ['conv2d_73[0][0]',              \n",
            "                                                                  'layer_normalization_36[0][0]'] \n",
            "                                                                                                  \n",
            " layer_normalization_37 (LayerN  (None, 10, 10, 64)  128         ['add_21[0][0]']                 \n",
            " ormalization)                                                                                    \n",
            "                                                                                                  \n",
            " conv2d_74 (Conv2D)             (None, 10, 10, 64)   36928       ['layer_normalization_37[0][0]'] \n",
            "                                                                                                  \n",
            " global_average_pooling2d_9 (Gl  (None, 64)          0           ['conv2d_74[0][0]']              \n",
            " obalAveragePooling2D)                                                                            \n",
            "                                                                                                  \n",
            " dense_10 (Dense)               (None, 128)          8320        ['global_average_pooling2d_9[0][0\n",
            "                                                                 ]']                              \n",
            "                                                                                                  \n",
            " dropout_2 (Dropout)            (None, 128)          0           ['dense_10[0][0]']               \n",
            "                                                                                                  \n",
            " dense_11 (Dense)               (None, 10)           1290        ['dropout_2[0][0]']              \n",
            "                                                                                                  \n",
            "==================================================================================================\n",
            "Total params: 214,026\n",
            "Trainable params: 214,026\n",
            "Non-trainable params: 0\n",
            "__________________________________________________________________________________________________\n"
          ]
        }
      ]
    },
    {
      "cell_type": "code",
      "source": [
        "from tensorflow.keras.optimizers import RMSprop\n",
        "c4model.compile(optimizer=RMSprop(1e-3),loss=keras.losses.CategoricalCrossentropy(from_logits=True),metrics=[\"acc\"],\n",
        ")"
      ],
      "metadata": {
        "id": "Qk9mwEXOJ-aW"
      },
      "execution_count": null,
      "outputs": []
    },
    {
      "cell_type": "code",
      "source": [
        "c4history = c4model.fit(ctrain_images, ctrain_labels, epochs = 8, batch_size=128, validation_data=(ctest_images, ctest_labels))"
      ],
      "metadata": {
        "colab": {
          "base_uri": "https://localhost:8080/"
        },
        "id": "QYfXVKV8J-x4",
        "outputId": "5ebabb79-6d11-458f-b65f-4b4f90608f8f"
      },
      "execution_count": null,
      "outputs": [
        {
          "output_type": "stream",
          "name": "stdout",
          "text": [
            "Epoch 1/8\n",
            "391/391 [==============================] - 457s 1s/step - loss: 1.9640 - acc: 0.2608 - val_loss: 1.5287 - val_acc: 0.4293\n",
            "Epoch 2/8\n",
            "391/391 [==============================] - 454s 1s/step - loss: 1.4866 - acc: 0.4584 - val_loss: 1.2018 - val_acc: 0.5600\n",
            "Epoch 3/8\n",
            "391/391 [==============================] - 439s 1s/step - loss: 1.2296 - acc: 0.5601 - val_loss: 1.0895 - val_acc: 0.6047\n",
            "Epoch 4/8\n",
            "391/391 [==============================] - 424s 1s/step - loss: 1.0693 - acc: 0.6228 - val_loss: 1.4909 - val_acc: 0.5227\n",
            "Epoch 5/8\n",
            "391/391 [==============================] - 412s 1s/step - loss: 0.9508 - acc: 0.6664 - val_loss: 0.9105 - val_acc: 0.6782\n",
            "Epoch 6/8\n",
            "391/391 [==============================] - 418s 1s/step - loss: 0.8513 - acc: 0.7041 - val_loss: 0.8251 - val_acc: 0.7072\n",
            "Epoch 7/8\n",
            "391/391 [==============================] - 413s 1s/step - loss: 0.7749 - acc: 0.7352 - val_loss: 0.8392 - val_acc: 0.7120\n",
            "Epoch 8/8\n",
            "391/391 [==============================] - 413s 1s/step - loss: 0.7085 - acc: 0.7578 - val_loss: 0.7558 - val_acc: 0.7385\n"
          ]
        }
      ]
    }
  ],
  "metadata": {
    "colab": {
      "collapsed_sections": [],
      "name": "AS4.ipynb",
      "provenance": []
    },
    "kernelspec": {
      "display_name": "Python 3",
      "name": "python3"
    },
    "language_info": {
      "name": "python"
    }
  },
  "nbformat": 4,
  "nbformat_minor": 0
}