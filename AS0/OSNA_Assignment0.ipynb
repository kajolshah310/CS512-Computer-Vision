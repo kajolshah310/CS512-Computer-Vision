{
 "cells": [
  {
   "cell_type": "markdown",
   "id": "c5c20761",
   "metadata": {},
   "source": [
    "Name: Kajol Tanesh Shah\n",
    "Student ID: A20496724\n",
    "Course no: CS512\n",
    "Semester: Spring 2022"
   ]
  },
  {
   "cell_type": "code",
   "execution_count": 15,
   "id": "5f0cd85d",
   "metadata": {},
   "outputs": [],
   "source": [
    "import numpy as np\n",
    "import pandas as pd\n",
    "import math"
   ]
  },
  {
   "cell_type": "code",
   "execution_count": 58,
   "id": "59da1f42",
   "metadata": {},
   "outputs": [
    {
     "name": "stdout",
     "output_type": "stream",
     "text": [
      "2a - b : [[-2]\n",
      " [-1]\n",
      " [ 0]]\n"
     ]
    }
   ],
   "source": [
    "#QA - 1\n",
    "a = np.array([[1], [2], [3]])\n",
    "b = np.array([[4], [5], [6]])\n",
    "c = np.array([[-1, 1, 3]])\n",
    "print(\"2a - b :\", np.subtract(2*a, b))"
   ]
  },
  {
   "cell_type": "code",
   "execution_count": 61,
   "id": "0a4e0620",
   "metadata": {},
   "outputs": [
    {
     "name": "stdout",
     "output_type": "stream",
     "text": [
      "3.7416573867739413\n",
      "a^ : [[0.26726124]\n",
      " [0.53452248]\n",
      " [0.80178373]]\n"
     ]
    }
   ],
   "source": [
    "#QA - 2\n",
    "sq_a = np.square(a)\n",
    "mag_a = np.sqrt(np.sum(sq_a))\n",
    "print(mag_a)\n",
    "a_cap = a/mag_a\n",
    "print(\"a^ :\", a_cap)\n",
    "#mag_a = np.sqrt"
   ]
  },
  {
   "cell_type": "code",
   "execution_count": 71,
   "id": "289d6ed7",
   "metadata": {
    "scrolled": true
   },
   "outputs": [
    {
     "name": "stdout",
     "output_type": "stream",
     "text": [
      "[[0.26726124]]\n",
      "Theta :  1.3002465638163236\n"
     ]
    }
   ],
   "source": [
    "#QA - 3\n",
    "x = np.array([[1, 0, 0]])\n",
    "a_T = a.T\n",
    "#print(np.dot(x, a_T))\n",
    "cos = np.dot(x, a)/mag_a\n",
    "print(cos)\n",
    "print(\"Theta : \", math.acos(cos))"
   ]
  },
  {
   "cell_type": "code",
   "execution_count": 72,
   "id": "e9de5719",
   "metadata": {},
   "outputs": [
    {
     "name": "stdout",
     "output_type": "stream",
     "text": [
      "[[0.26726124 0.53452248 0.80178373]]\n"
     ]
    }
   ],
   "source": [
    "#QA - 4\n",
    "dir_cosines = a/mag_a\n",
    "print(cos_a)"
   ]
  },
  {
   "cell_type": "code",
   "execution_count": 76,
   "id": "9cf80464",
   "metadata": {},
   "outputs": [
    {
     "name": "stdout",
     "output_type": "stream",
     "text": [
      "8.774964387392123\n",
      "cos theta : [[0.97463185]]\n"
     ]
    }
   ],
   "source": [
    "#QA - 5\n",
    "sq_b = np.square(b)\n",
    "mag_b = np.sqrt(np.sum(sq_b))\n",
    "print(mag_b)\n",
    "ab_cos = np.dot(a_T, b)/(mag_a * mag_b)\n",
    "print(\"cos theta :\", ab_cos)"
   ]
  },
  {
   "cell_type": "code",
   "execution_count": 78,
   "id": "21792f0d",
   "metadata": {},
   "outputs": [
    {
     "name": "stdout",
     "output_type": "stream",
     "text": [
      "AB dot product : [[32]]\n",
      "BA dot product : [[32]]\n"
     ]
    }
   ],
   "source": [
    "#QA - 6\n",
    "b_T = b.T\n",
    "ab_dot = np.dot(a_T, b)\n",
    "ba_dot = np.dot(b_T, a)\n",
    "print(\"AB dot product :\", ab_dot)\n",
    "print(\"BA dot product :\", ba_dot)\n"
   ]
  },
  {
   "cell_type": "code",
   "execution_count": 81,
   "id": "c7f86b6d",
   "metadata": {},
   "outputs": [
    {
     "name": "stdout",
     "output_type": "stream",
     "text": [
      "1.0\n",
      "Scalar proj of b onto a cap : [[8.55235974]]\n"
     ]
    }
   ],
   "source": [
    "#QA - 8\n",
    "\n",
    "acapb_dot = np.dot(a_cap.T, b)\n",
    "sq_acap = np.square(a_cap)\n",
    "mag_acap = np.sqrt(np.sum(sq_acap))\n",
    "print(mag_acap)\n",
    "print(\"Scalar proj of b onto a cap :\", acapb_dot/mag_acap)"
   ]
  },
  {
   "cell_type": "code",
   "execution_count": 132,
   "id": "ee95e40b",
   "metadata": {},
   "outputs": [],
   "source": [
    "#QA - 9\n",
    "#G = np.array([[0], [0], [0]])\n",
    "#print(np.linalg.solve(G, a))"
   ]
  },
  {
   "cell_type": "code",
   "execution_count": 84,
   "id": "61451bf3",
   "metadata": {},
   "outputs": [
    {
     "name": "stdout",
     "output_type": "stream",
     "text": [
      "[[-3  6 -3]]\n",
      "[[ 3 -6  3]]\n",
      "magnitude of cross product ab:  7.3484692283495345\n",
      "magnitude of cross product ba:  7.3484692283495345\n"
     ]
    }
   ],
   "source": [
    "#QA - 10\n",
    "ab_cross = np.cross(a_T, b_T)\n",
    "ba_cross = np.cross(b_T, a_T)\n",
    "print(ab_cross)\n",
    "print(ba_cross)\n",
    "sq_ab = np.square(ab_cross)\n",
    "mag_ab = np.sqrt(np.sum(sq_ab))\n",
    "print(\"magnitude of cross product ab: \",mag_ab)\n",
    "sq_ba = np.square(ba_cross)\n",
    "mag_ba = np.sqrt(np.sum(sq_ba))\n",
    "print(\"magnitude of cross product ba: \",mag_ba)"
   ]
  },
  {
   "cell_type": "code",
   "execution_count": 100,
   "id": "06331259",
   "metadata": {
    "scrolled": false
   },
   "outputs": [
    {
     "name": "stdout",
     "output_type": "stream",
     "text": [
      "[[ 1  2  3]\n",
      " [ 4  5  6]\n",
      " [-1  1  3]]\n",
      "(3, 3)\n",
      "determinant is : 0\n"
     ]
    }
   ],
   "source": [
    "#QA - 12\n",
    "\n",
    "new_mat = np.array([[1, 2, 3], [4, 5, 6], [-1, 1, 3]])\n",
    "print(new_mat)\n",
    "print(new_mat.shape)\n",
    "deter = np.linalg.det(new_mat)\n",
    "print(\"determinant is :\",int(deter))"
   ]
  },
  {
   "cell_type": "code",
   "execution_count": 86,
   "id": "dabfab24",
   "metadata": {},
   "outputs": [
    {
     "name": "stdout",
     "output_type": "stream",
     "text": [
      "(3, 1)\n",
      "AB dot product : [[ 4  5  6]\n",
      " [ 8 10 12]\n",
      " [12 15 18]]\n",
      "BA dot product : [[32]]\n"
     ]
    }
   ],
   "source": [
    "#QA - 13\n",
    "ab_dot = np.dot(a, b_T)\n",
    "print(a.shape)\n",
    "ba_dot = np.dot(a_T, b)\n",
    "print(\"AB dot product :\", ab_dot)\n",
    "print(\"BA dot product :\", ba_dot)\n"
   ]
  },
  {
   "cell_type": "code",
   "execution_count": null,
   "id": "f88f5864",
   "metadata": {},
   "outputs": [],
   "source": []
  },
  {
   "cell_type": "code",
   "execution_count": 90,
   "id": "4709e375",
   "metadata": {},
   "outputs": [
    {
     "name": "stdout",
     "output_type": "stream",
     "text": [
      "[[ 1  2  3]\n",
      " [ 4 -2  3]\n",
      " [ 0  5 -1]]\n",
      "[[ 1  2  1]\n",
      " [ 2  1 -4]\n",
      " [ 3 -2  1]]\n",
      "[[ 1  2  3]\n",
      " [ 4  5  6]\n",
      " [-1  1  3]]\n",
      "[[1]\n",
      " [2]\n",
      " [3]]\n",
      "2A - B : [[ 1  2  5]\n",
      " [ 6 -5 10]\n",
      " [-3 12 -3]]\n"
     ]
    }
   ],
   "source": [
    "#QB - 1\n",
    "A = np.array([[1, 2, 3], [4, -2, 3], [0, 5, -1]])\n",
    "print(A)\n",
    "B = np.array([[1, 2, 1], [2, 1, -4], [3, -2, 1]])\n",
    "print(B)\n",
    "C = np.array([[1, 2, 3], [4, 5, 6], [-1, 1, 3]])\n",
    "print(C)\n",
    "d = np.array([[1], [2], [3]])\n",
    "print(d)\n",
    "print(\"2A - B :\", np.subtract(2*A, B))"
   ]
  },
  {
   "cell_type": "code",
   "execution_count": 91,
   "id": "de304dc4",
   "metadata": {},
   "outputs": [
    {
     "name": "stdout",
     "output_type": "stream",
     "text": [
      "AB dot : [[ 14  -2  -4]\n",
      " [  9   0  15]\n",
      " [  7   7 -21]]\n",
      "BA dot : [[  9   3   8]\n",
      " [  6 -18  13]\n",
      " [ -5  15   2]]\n"
     ]
    }
   ],
   "source": [
    "#QB - 2\n",
    "AB_dot = np.dot(A, B)\n",
    "print(\"AB dot :\", AB_dot)\n",
    "BA_dot = np.dot(B, A)\n",
    "print(\"BA dot :\", BA_dot)"
   ]
  },
  {
   "cell_type": "code",
   "execution_count": 94,
   "id": "70eaf69c",
   "metadata": {},
   "outputs": [
    {
     "name": "stdout",
     "output_type": "stream",
     "text": [
      "AB transpose [[ 14   9   7]\n",
      " [ -2   0   7]\n",
      " [ -4  15 -21]]\n",
      "B transpose . A transpose [[ 14   9   7]\n",
      " [ -2   0   7]\n",
      " [ -4  15 -21]]\n"
     ]
    }
   ],
   "source": [
    "#QB - 3\n",
    "print(\"AB transpose\", AB_dot.T)\n",
    "BTAT = np.dot(B.T, A.T)\n",
    "print(\"B transpose . A transpose\", BTAT)"
   ]
  },
  {
   "cell_type": "code",
   "execution_count": 99,
   "id": "53d29d5e",
   "metadata": {},
   "outputs": [
    {
     "name": "stdout",
     "output_type": "stream",
     "text": [
      "54.999999999999964\n",
      "-42.00000000000002\n",
      "0\n"
     ]
    }
   ],
   "source": [
    "#QB - 4\n",
    "det_A = np.linalg.det(A)\n",
    "print(det_A)\n",
    "det_B = np.linalg.det(B)\n",
    "print(det_B)\n",
    "det_C = np.linalg.det(C)\n",
    "print(int(det_C))\n",
    "\n",
    "#QB - 5\n",
    "#Row vectors of C are linearly dependent, A and B are not\n",
    "#Row vectors of C form an orthogonal set"
   ]
  },
  {
   "cell_type": "code",
   "execution_count": 101,
   "id": "302bec94",
   "metadata": {},
   "outputs": [
    {
     "name": "stdout",
     "output_type": "stream",
     "text": [
      "A inverse : [[-0.23636364  0.30909091  0.21818182]\n",
      " [ 0.07272727 -0.01818182  0.16363636]\n",
      " [ 0.36363636 -0.09090909 -0.18181818]]\n",
      "B_inverse : [[ 0.16666667  0.0952381   0.21428571]\n",
      " [ 0.33333333  0.04761905 -0.14285714]\n",
      " [ 0.16666667 -0.19047619  0.07142857]]\n"
     ]
    }
   ],
   "source": [
    "#QB - 6\n",
    "A_inv = np.linalg.inv(A)\n",
    "B_inv = np.linalg.inv(B)\n",
    "print(\"A inverse :\", A_inv)\n",
    "print(\"B_inverse :\", B_inv)"
   ]
  },
  {
   "cell_type": "code",
   "execution_count": 102,
   "id": "32dca833",
   "metadata": {},
   "outputs": [
    {
     "name": "stdout",
     "output_type": "stream",
     "text": [
      "C inverse : [[ 1.20095990e+16 -4.00319967e+15 -4.00319967e+15]\n",
      " [-2.40191980e+16  8.00639934e+15  8.00639934e+15]\n",
      " [ 1.20095990e+16 -4.00319967e+15 -4.00319967e+15]]\n"
     ]
    }
   ],
   "source": [
    "#QB - 7\n",
    "C_inv = np.linalg.inv(C)\n",
    "print(\"C inverse :\", C_inv)"
   ]
  },
  {
   "cell_type": "code",
   "execution_count": 103,
   "id": "4c29dd08",
   "metadata": {},
   "outputs": [
    {
     "name": "stdout",
     "output_type": "stream",
     "text": [
      "Ad dot : [[14]\n",
      " [ 9]\n",
      " [ 7]]\n"
     ]
    }
   ],
   "source": [
    "#QB - 8 \n",
    "Ad_dot = np.dot(A, d)\n",
    "print(\"Ad dot :\", Ad_dot)"
   ]
  },
  {
   "cell_type": "code",
   "execution_count": 104,
   "id": "05965035",
   "metadata": {},
   "outputs": [
    {
     "name": "stdout",
     "output_type": "stream",
     "text": [
      "3.7416573867739413\n"
     ]
    }
   ],
   "source": [
    "#QB - 9\n",
    "sq_d = np.square(d)\n",
    "mag_d = np.sqrt(np.sum(sq_d))\n",
    "print(mag_d)"
   ]
  },
  {
   "cell_type": "code",
   "execution_count": 107,
   "id": "4c166d74",
   "metadata": {},
   "outputs": [
    {
     "name": "stdout",
     "output_type": "stream",
     "text": [
      "[[1 2 3]\n",
      " [2 4 6]\n",
      " [3 6 9]]\n",
      "[[3.74165739]]\n",
      "[[2.40535118]]\n",
      "[[1.87082869]]\n"
     ]
    }
   ],
   "source": [
    "a1 = np.array([[1, 2, 3]])\n",
    "a2 = np.array([[4, -2, 3]])\n",
    "a3 = np.array([[0, 5, -1]])\n",
    "#print(np.dot(d, a1))\n",
    "proj_a1 = np.dot(a1, d)/mag_d\n",
    "proj_a2 = np.dot(a2, d)/mag_d\n",
    "proj_a3 = np.dot(a3, d)/mag_d\n",
    "print(proj_a1)\n",
    "print(proj_a2)\n",
    "print(proj_a3)"
   ]
  },
  {
   "cell_type": "code",
   "execution_count": 110,
   "id": "400c48af",
   "metadata": {},
   "outputs": [],
   "source": [
    "#QB - 10\n",
    "#sq_mag_d = np.square(mag_d)\n",
    "val_a1 = proj_a1/mag_d\n",
    "val_a2 = proj_a2/mag_d\n",
    "val_a3 = proj_a3/mag_d"
   ]
  },
  {
   "cell_type": "code",
   "execution_count": 111,
   "id": "908234bc",
   "metadata": {},
   "outputs": [
    {
     "name": "stdout",
     "output_type": "stream",
     "text": [
      "vector proj of a1 on d : [[1. 2. 3.]]\n",
      "vector proj of a2 on d : [[ 2.57142857 -1.28571429  1.92857143]]\n",
      "vector proj of a3 on d : [[ 0.   2.5 -0.5]]\n"
     ]
    }
   ],
   "source": [
    "print(\"vector proj of a1 on d :\", val_a1*a1 )\n",
    "print(\"vector proj of a2 on d :\", val_a2*a2 )\n",
    "print(\"vector proj of a3 on d :\", val_a3*a3 )"
   ]
  },
  {
   "cell_type": "code",
   "execution_count": 133,
   "id": "1a8f207b",
   "metadata": {},
   "outputs": [
    {
     "name": "stdout",
     "output_type": "stream",
     "text": [
      "[[ 1.00000000e+00]\n",
      " [ 2.37904934e-17]\n",
      " [-1.18952467e-17]]\n"
     ]
    }
   ],
   "source": [
    "#QB - 12\n",
    "#G = np.array([[1], [2], [3]])\n",
    "print(np.linalg.solve(B, d))"
   ]
  },
  {
   "cell_type": "code",
   "execution_count": 136,
   "id": "3e8058aa",
   "metadata": {},
   "outputs": [
    {
     "name": "stdout",
     "output_type": "stream",
     "text": [
      "[[-8.00639934e+15]\n",
      " [ 1.60127987e+16]\n",
      " [-8.00639934e+15]]\n"
     ]
    }
   ],
   "source": [
    "#QB -13\n",
    "print(np.linalg.solve(C, d))"
   ]
  },
  {
   "cell_type": "code",
   "execution_count": 112,
   "id": "a575552d",
   "metadata": {},
   "outputs": [
    {
     "name": "stdout",
     "output_type": "stream",
     "text": [
      "Eigen values and vectors of D : (array([-1.,  4.]), array([[-0.70710678, -0.5547002 ],\n",
      "       [ 0.70710678, -0.83205029]]))\n"
     ]
    }
   ],
   "source": [
    "#QC - 1\n",
    "D = np.array([[1, 2],[3, 2]])\n",
    "E = np.array([[2, -2],[-2, 5]])\n",
    "F = np.array([[1, 2], [2, 4]])\n",
    "print(\"Eigen values and vectors of D :\", np.linalg.eig(D))"
   ]
  },
  {
   "cell_type": "code",
   "execution_count": 116,
   "id": "2a7a9b7c",
   "metadata": {},
   "outputs": [
    {
     "name": "stdout",
     "output_type": "stream",
     "text": [
      "Dot product of eig vectors of D:  [[-0.03846154]]\n"
     ]
    }
   ],
   "source": [
    "#QC - 2\n",
    "D_eigv1 = np.array([[-0.70710678, -0.5547002 ]])\n",
    "D_eigv2 = np.array([[0.70710678, -0.83205029]])\n",
    "print(\"Dot product of eig vectors of D: \", np.dot(D_eigv1, D_eigv2.T))"
   ]
  },
  {
   "cell_type": "code",
   "execution_count": 117,
   "id": "049644cd",
   "metadata": {},
   "outputs": [
    {
     "name": "stdout",
     "output_type": "stream",
     "text": [
      "Eigen values and vectors of D : (array([1., 6.]), array([[-0.89442719,  0.4472136 ],\n",
      "       [-0.4472136 , -0.89442719]]))\n"
     ]
    }
   ],
   "source": [
    "#QC - 3\n",
    "print(\"Eigen values and vectors of D :\", np.linalg.eig(E))\n"
   ]
  },
  {
   "cell_type": "code",
   "execution_count": 118,
   "id": "d241cc9e",
   "metadata": {},
   "outputs": [
    {
     "name": "stdout",
     "output_type": "stream",
     "text": [
      "Dot product of eig vectors of E:  [[0.]]\n"
     ]
    }
   ],
   "source": [
    "E_eigv1 = np.array([[-0.89442719,  0.4472136 ]])\n",
    "E_eigv2 = np.array([[-0.4472136 , -0.89442719]])\n",
    "print(\"Dot product of eig vectors of E: \", np.dot(E_eigv1, E_eigv2.T))"
   ]
  },
  {
   "cell_type": "code",
   "execution_count": null,
   "id": "83ba5e72",
   "metadata": {},
   "outputs": [],
   "source": [
    "#QC - 4 \n",
    "#As dot product of eigen vectors of E is 0, the eigen vectorsof E are orthogonalb"
   ]
  },
  {
   "cell_type": "code",
   "execution_count": 129,
   "id": "e783086c",
   "metadata": {
    "scrolled": true
   },
   "outputs": [],
   "source": [
    "#QC - 5 and 6\n",
    "#G = np.array([[0], [0]])\n",
    "#print(np.linalg.solve(F, G))"
   ]
  },
  {
   "cell_type": "code",
   "execution_count": null,
   "id": "60e96a40",
   "metadata": {},
   "outputs": [],
   "source": [
    "#As the determinant of F is 0 i.e. it is a singular matrix so x = 0"
   ]
  },
  {
   "cell_type": "code",
   "execution_count": 128,
   "id": "1ba8733f",
   "metadata": {},
   "outputs": [
    {
     "name": "stdout",
     "output_type": "stream",
     "text": [
      "[[0.]\n",
      " [0.]]\n"
     ]
    }
   ],
   "source": [
    "#QC - 7\n",
    "G = np.array([[0], [0]])\n",
    "print(np.linalg.solve(D, G))"
   ]
  },
  {
   "cell_type": "code",
   "execution_count": null,
   "id": "a42a7189",
   "metadata": {},
   "outputs": [],
   "source": [
    "#It is has single solution which is x = 0 "
   ]
  }
 ],
 "metadata": {
  "kernelspec": {
   "display_name": "Python 3 (ipykernel)",
   "language": "python",
   "name": "python3"
  },
  "language_info": {
   "codemirror_mode": {
    "name": "ipython",
    "version": 3
   },
   "file_extension": ".py",
   "mimetype": "text/x-python",
   "name": "python",
   "nbconvert_exporter": "python",
   "pygments_lexer": "ipython3",
   "version": "3.9.7"
  }
 },
 "nbformat": 4,
 "nbformat_minor": 5
}
